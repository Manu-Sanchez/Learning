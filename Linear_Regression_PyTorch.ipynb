{
  "nbformat": 4,
  "nbformat_minor": 0,
  "metadata": {
    "colab": {
      "provenance": [],
      "collapsed_sections": [
        "dNIj_8Qi8f5Q",
        "clm7v2Bg9OaP",
        "6XiSzI1f98mP",
        "T_e_6-vI_Li7",
        "nYMoG0cfAtQI",
        "8MWSUoxQBZFO",
        "I8r5FocWCQbE",
        "ZvqrEu_HCaMr"
      ],
      "authorship_tag": "ABX9TyPscH+lXTy5Ge4SXwGNZGts",
      "include_colab_link": true
    },
    "kernelspec": {
      "name": "python3",
      "display_name": "Python 3"
    },
    "language_info": {
      "name": "python"
    }
  },
  "cells": [
    {
      "cell_type": "markdown",
      "metadata": {
        "id": "view-in-github",
        "colab_type": "text"
      },
      "source": [
        "<a href=\"https://colab.research.google.com/github/Manu-Sanchez/Learning/blob/ai%2Fbasic-gan/Linear_Regression_PyTorch.ipynb\" target=\"_parent\"><img src=\"https://colab.research.google.com/assets/colab-badge.svg\" alt=\"Open In Colab\"/></a>"
      ]
    },
    {
      "cell_type": "markdown",
      "source": [
        "# Summary\n",
        "In this lecture you will find a basic linear regression model.\n",
        "\n",
        "**A linear regression model is used for predict continuous values, in our case, we're going to predict random values**.\n",
        "\n",
        "\n",
        "First of all we're going to start doing the library import.\n",
        "\n",
        "- torch: for the maching learning model\n",
        "- numpy: for the data structures\n",
        "- matplotlib: for plotting data"
      ],
      "metadata": {
        "id": "dNIj_8Qi8f5Q"
      }
    },
    {
      "cell_type": "code",
      "execution_count": 1,
      "metadata": {
        "id": "LG_RKJiUu4Hj"
      },
      "outputs": [],
      "source": [
        "import torch\n",
        "import numpy as np\n",
        "import matplotlib.pyplot as plt\n",
        "\n",
        "%matplotlib inline\n",
        "\n",
        "import torch.nn as nn"
      ]
    },
    {
      "cell_type": "markdown",
      "source": [
        "## Setting the hyperparameters\n",
        "For our purpose we're going to select a random seed (so you'll be able to replicate the same results in your computer)\n",
        "\n",
        "- Epoch: Number of times we're going to pass the entire dataset in the model to train it\n",
        "- Seed: Value that will make our code replicable\n",
        "- Input Size: Size of the input layer\n",
        "- Output Size: Size of the output layer"
      ],
      "metadata": {
        "id": "clm7v2Bg9OaP"
      }
    },
    {
      "cell_type": "code",
      "source": [
        "epochs = 50\n",
        "seed = 42\n",
        "in_size = 1\n",
        "out_size = 1\n",
        "\n",
        "torch.manual_seed(seed)"
      ],
      "metadata": {
        "colab": {
          "base_uri": "https://localhost:8080/"
        },
        "id": "K7rfL0bv9tC3",
        "outputId": "3b19241d-fd70-4649-9fa8-319d90d0dfe2"
      },
      "execution_count": 46,
      "outputs": [
        {
          "output_type": "execute_result",
          "data": {
            "text/plain": [
              "<torch._C.Generator at 0x7bbc9434d470>"
            ]
          },
          "metadata": {},
          "execution_count": 46
        }
      ]
    },
    {
      "cell_type": "markdown",
      "source": [
        "## Data Generation\n",
        "We're going to create 50 different points between 0 and 1 and we're going to generate the Y value of this points using a random function something like this\n",
        "\n",
        "- x = [1, 50]\n",
        "- y = 2 * x + e\n",
        "\n",
        "**where e is a random value between [-9, 9]"
      ],
      "metadata": {
        "id": "6XiSzI1f98mP"
      }
    },
    {
      "cell_type": "code",
      "source": [
        "x = np.linspace(1, 50, 50).reshape(-1, 1)\n",
        "e = np.random.randint(-9, 9, 50).reshape(-1, 1)\n",
        "\n",
        "y = 2 * x + e\n",
        "\n",
        "plt.scatter(x, y)"
      ],
      "metadata": {
        "colab": {
          "base_uri": "https://localhost:8080/",
          "height": 447
        },
        "id": "c-8fM0b2-ZNJ",
        "outputId": "5224c1dd-e2ef-4f50-ef63-520b39d6536a"
      },
      "execution_count": 47,
      "outputs": [
        {
          "output_type": "execute_result",
          "data": {
            "text/plain": [
              "<matplotlib.collections.PathCollection at 0x7bbbbde64610>"
            ]
          },
          "metadata": {},
          "execution_count": 47
        },
        {
          "output_type": "display_data",
          "data": {
            "text/plain": [
              "<Figure size 640x480 with 1 Axes>"
            ],
            "image/png": "[encoded data removed]"
          },
          "metadata": {}
        }
      ]
    },
    {
      "cell_type": "markdown",
      "source": [
        "## Model Definition\n",
        "We're going to create a model with only one linear layer.\n",
        "\n",
        "this will receive the input values and will return a predicted value.\n",
        "\n",
        "The equation this model follows is the following one:\n",
        "y_pred = weight * value + bias"
      ],
      "metadata": {
        "id": "T_e_6-vI_Li7"
      }
    },
    {
      "cell_type": "code",
      "source": [
        "class Model(nn.Module):\n",
        "\n",
        "  def __init__(self, in_features, out_features):\n",
        "    super().__init__()\n",
        "    self.linear = nn.Linear(in_features, out_features)\n",
        "\n",
        "\n",
        "  def forward(self, x):\n",
        "    y_pred = self.linear(x)\n",
        "    return y_pred\n",
        "\n",
        "\n",
        "model = Model(1,1)"
      ],
      "metadata": {
        "id": "JuitTqQw_LGU"
      },
      "execution_count": 49,
      "outputs": []
    },
    {
      "cell_type": "markdown",
      "source": [
        "### Actual Regression Line\n",
        "\n",
        "By default when creating a Linear model, this starts with a random weight and a random bias, we can take this values to plot the actual regression line and see how far are we from the optimal regression line.\n",
        "\n"
      ],
      "metadata": {
        "id": "pJb6oeEG_eHB"
      }
    },
    {
      "cell_type": "code",
      "source": [
        "current_weight = model.linear.weight.item()\n",
        "current_bias = model.linear.bias.item()\n",
        "\n",
        "plt.scatter(x,y)\n",
        "\n",
        "regression_line_x = np.linspace(1, 50, 50)\n",
        "regression_line_y = current_weight * regression_line_x + current_bias\n",
        "\n",
        "plt.plot(regression_line_x, regression_line_y, 'r')"
      ],
      "metadata": {
        "colab": {
          "base_uri": "https://localhost:8080/",
          "height": 447
        },
        "id": "14d22_EU_-mH",
        "outputId": "50a28c7d-f4f4-4ae2-ce86-37f04d113d2e"
      },
      "execution_count": 52,
      "outputs": [
        {
          "output_type": "execute_result",
          "data": {
            "text/plain": [
              "[<matplotlib.lines.Line2D at 0x7bbbbdb1b5e0>]"
            ]
          },
          "metadata": {},
          "execution_count": 52
        },
        {
          "output_type": "display_data",
          "data": {
            "text/plain": [
              "<Figure size 640x480 with 1 Axes>"
            ],
            "image/png": "[encoded data removed]"
          },
          "metadata": {}
        }
      ]
    },
    {
      "cell_type": "code",
      "source": [
        "#How can we show all the parameters\n",
        "for name, param in model.named_parameters():\n",
        "  print(f\"Name: {name}, Value: {param.item()}\")"
      ],
      "metadata": {
        "colab": {
          "base_uri": "https://localhost:8080/"
        },
        "id": "YKnBx0Xn02hH",
        "outputId": "962a3e14-56bf-435a-e519-1aa7177c5b72"
      },
      "execution_count": 11,
      "outputs": [
        {
          "output_type": "stream",
          "name": "stdout",
          "text": [
            "Name: linear.weight, Value: 0.10597813129425049\n",
            "Name: linear.bias, Value: 0.9637961387634277\n"
          ]
        }
      ]
    },
    {
      "cell_type": "markdown",
      "source": [
        "## Defining optimizers and loss functions\n",
        "\n",
        "We're going to use MSE (Mean Squared Error) for calculater our loss (error).\n",
        "\n",
        "And Stochastic Gradient Descent for optimizing the model"
      ],
      "metadata": {
        "id": "nYMoG0cfAtQI"
      }
    },
    {
      "cell_type": "code",
      "source": [
        "criterion = nn.MSELoss() #Performance evaluation"
      ],
      "metadata": {
        "id": "1hAZGff02RXq"
      },
      "execution_count": 53,
      "outputs": []
    },
    {
      "cell_type": "code",
      "source": [
        "optimizer = torch.optim.SGD(model.parameters(), lr=1e-3) #SDG Stochastic Gradient Descent"
      ],
      "metadata": {
        "id": "Iehw-AYt2Y2E"
      },
      "execution_count": 54,
      "outputs": []
    },
    {
      "cell_type": "markdown",
      "source": [
        "## Main Loop\n",
        "Now we're going to define the main loop.\n",
        "We're going to move forward for each epoch, predict our values and then calculate the actual loss (error) of the model.\n",
        "\n",
        "Once this is done, we're going to restart the gradients for each epoch to prevent issues when doing the gradient descent and finally, update the actual weights and bias.\n",
        "\n",
        "It's also recomended to print how the model it's actually going.\n"
      ],
      "metadata": {
        "id": "8MWSUoxQBZFO"
      }
    },
    {
      "cell_type": "code",
      "source": [
        "losses = []\n",
        "\n",
        "x = torch.tensor(x, dtype=torch.float)\n",
        "y = torch.tensor(y, dtype=torch.float)\n",
        "\n",
        "for i in range(epochs):\n",
        "  i += 1\n",
        "\n",
        "  #Prediction\n",
        "  y_pred = model.forward(x)\n",
        "\n",
        "  #Calculate LOSS (ERROR)\n",
        "  loss = criterion(y_pred, y)\n",
        "\n",
        "  #Record the error\n",
        "  losses.append(loss)\n",
        "\n",
        "  print(f\"epoch {i} loss: {loss.item()} weight: {model.linear.weight.item()} bias: {model.linear.bias.item()}\")\n",
        "\n",
        "  optimizer.zero_grad()\n",
        "  loss.backward()\n",
        "  optimizer.step()\n"
      ],
      "metadata": {
        "colab": {
          "base_uri": "https://localhost:8080/"
        },
        "id": "vLkInd6N2tXE",
        "outputId": "26242910-a424-486c-9638-ce49d615765a"
      },
      "execution_count": 58,
      "outputs": [
        {
          "output_type": "stream",
          "name": "stdout",
          "text": [
            "epoch 1 loss: 1256.220458984375 weight: 0.7645385265350342 bias: 0.8300079107284546\n",
            "epoch 2 loss: 662.5447387695312 weight: 2.817495584487915 bias: 0.8893964290618896\n",
            "epoch 3 loss: 356.0498352050781 weight: 1.3424965143203735 bias: 0.8439653515815735\n",
            "epoch 4 loss: 197.81625366210938 weight: 2.402387857437134 bias: 0.8738501071929932\n",
            "epoch 5 loss: 116.12458801269531 weight: 1.640921711921692 bias: 0.8496206402778625\n",
            "epoch 6 loss: 73.94890594482422 weight: 2.1881284713745117 bias: 0.8642743825912476\n",
            "epoch 7 loss: 52.17390060424805 weight: 1.7950339317321777 bias: 0.8509913086891174\n",
            "epoch 8 loss: 40.931007385253906 weight: 2.0775601863861084 bias: 0.8577826023101807\n",
            "epoch 9 loss: 35.125450134277344 weight: 1.8746424913406372 bias: 0.8501514792442322\n",
            "epoch 10 loss: 32.12700653076172 weight: 2.0205235481262207 bias: 0.8528844118118286\n",
            "epoch 11 loss: 30.577781677246094 weight: 1.9157875776290894 bias: 0.8481719493865967\n",
            "epoch 12 loss: 29.77674102783203 weight: 1.9911234378814697 bias: 0.8488104343414307\n",
            "epoch 13 loss: 29.361967086791992 weight: 1.937075138092041 bias: 0.8456054925918579\n",
            "epoch 14 loss: 29.146595001220703 weight: 1.9759912490844727 bias: 0.8451634645462036\n",
            "epoch 15 loss: 29.0341796875 weight: 1.9481109380722046 bias: 0.8427375555038452\n",
            "epoch 16 loss: 28.97490692138672 weight: 1.9682248830795288 bias: 0.8417384028434753\n",
            "epoch 17 loss: 28.943077087402344 weight: 1.9538540840148926 bias: 0.8397154808044434\n",
            "epoch 18 loss: 28.9254207611084 weight: 1.9642611742019653 bias: 0.8384295105934143\n",
            "epoch 19 loss: 28.915075302124023 weight: 1.9568647146224976 bias: 0.8366153240203857\n",
            "epoch 20 loss: 28.90850067138672 weight: 1.9622606039047241 bias: 0.8351820111274719\n",
            "epoch 21 loss: 28.903902053833008 weight: 1.9584648609161377 bias: 0.8334763646125793\n",
            "epoch 22 loss: 28.900285720825195 weight: 1.961273431777954 bias: 0.8319677114486694\n",
            "epoch 23 loss: 28.897199630737305 weight: 1.959336519241333 bias: 0.830318808555603\n",
            "epoch 24 loss: 28.89438247680664 weight: 1.960809350013733 bias: 0.8287720084190369\n",
            "epoch 25 loss: 28.8917179107666 weight: 1.9598321914672852 bias: 0.827153205871582\n",
            "epoch 26 loss: 28.889122009277344 weight: 1.9606153964996338 bias: 0.8255874514579773\n",
            "epoch 27 loss: 28.886560440063477 weight: 1.9601339101791382 bias: 0.8239849209785461\n",
            "epoch 28 loss: 28.884023666381836 weight: 1.9605607986450195 bias: 0.8224101066589355\n",
            "epoch 29 loss: 28.881494522094727 weight: 1.9603350162506104 bias: 0.820816695690155\n",
            "epoch 30 loss: 28.878984451293945 weight: 1.960578203201294 bias: 0.819238007068634\n",
            "epoch 31 loss: 28.87646484375 weight: 1.9604843854904175 bias: 0.8176500201225281\n",
            "epoch 32 loss: 28.87395668029785 weight: 1.960632562637329 bias: 0.816070020198822\n",
            "epoch 33 loss: 28.871448516845703 weight: 1.9606069326400757 bias: 0.8144856095314026\n",
            "epoch 34 loss: 28.868947982788086 weight: 1.960706114768982 bias: 0.8129056692123413\n",
            "epoch 35 loss: 28.866453170776367 weight: 1.9607155323028564 bias: 0.8113238215446472\n",
            "epoch 36 loss: 28.863954544067383 weight: 1.9607893228530884 bias: 0.809744656085968\n",
            "epoch 37 loss: 28.8614501953125 weight: 1.9608169794082642 bias: 0.8081648945808411\n",
            "epoch 38 loss: 28.858959197998047 weight: 1.960877776145935 bias: 0.8065869212150574\n",
            "epoch 39 loss: 28.85647201538086 weight: 1.9609147310256958 bias: 0.8050090074539185\n",
            "epoch 40 loss: 28.853984832763672 weight: 1.9609686136245728 bias: 0.8034323453903198\n",
            "epoch 41 loss: 28.851503372192383 weight: 1.9610105752944946 bias: 0.8018561005592346\n",
            "epoch 42 loss: 28.849014282226562 weight: 1.9610607624053955 bias: 0.8002808690071106\n",
            "epoch 43 loss: 28.84653091430664 weight: 1.961105227470398 bias: 0.7987062335014343\n",
            "epoch 44 loss: 28.84405517578125 weight: 1.9611536264419556 bias: 0.7971324324607849\n",
            "epoch 45 loss: 28.841577529907227 weight: 1.9611990451812744 bias: 0.7955593466758728\n",
            "epoch 46 loss: 28.8391056060791 weight: 1.9612466096878052 bias: 0.7939870953559875\n",
            "epoch 47 loss: 28.836637496948242 weight: 1.9612928628921509 bias: 0.7924155592918396\n",
            "epoch 48 loss: 28.834165573120117 weight: 1.9613399505615234 bias: 0.7908447980880737\n",
            "epoch 49 loss: 28.831701278686523 weight: 1.9613860845565796 bias: 0.7892747521400452\n",
            "epoch 50 loss: 28.829235076904297 weight: 1.9614331722259521 bias: 0.7877055406570435\n"
          ]
        }
      ]
    },
    {
      "cell_type": "markdown",
      "source": [
        "## Checking how the training went\n",
        "\n",
        "Now we can plot the error obtained for earch epoch and see the training curve"
      ],
      "metadata": {
        "id": "I8r5FocWCQbE"
      }
    },
    {
      "cell_type": "code",
      "source": [
        "plt.plot(range(0,len(losses)), [loss.detach().numpy() for loss in losses])\n",
        "plt.ylabel('MSE Loss')\n",
        "plt.xlabel('Epoch')"
      ],
      "metadata": {
        "colab": {
          "base_uri": "https://localhost:8080/",
          "height": 466
        },
        "id": "uvx2YnFA3_00",
        "outputId": "b6bed1c1-9130-4361-9913-7507f2a9cd47"
      },
      "execution_count": 59,
      "outputs": [
        {
          "output_type": "execute_result",
          "data": {
            "text/plain": [
              "Text(0.5, 0, 'Epoch')"
            ]
          },
          "metadata": {},
          "execution_count": 59
        },
        {
          "output_type": "display_data",
          "data": {
            "text/plain": [
              "<Figure size 640x480 with 1 Axes>"
            ],
            "image/png": "[encoded data removed]"
          },
          "metadata": {}
        }
      ]
    },
    {
      "cell_type": "markdown",
      "source": [
        "## Plot the obtained regression line\n",
        "\n",
        "We want to see how fits now the regression line with our model, so for achieve this, we'll take 50 points between 1 and 50 to predict the value in that position and generate the actual regression line"
      ],
      "metadata": {
        "id": "ZvqrEu_HCaMr"
      }
    },
    {
      "cell_type": "code",
      "source": [
        "x1 = np.linspace(0., 50., 50)\n",
        "w1 = model.linear.weight.item()\n",
        "b1 = model.linear.bias.item()\n",
        "\n",
        "y1 = w1 * x1 + b1\n",
        "\n",
        "plt.scatter(x.numpy(), y.numpy())\n",
        "plt.plot(x1, y1, 'r')"
      ],
      "metadata": {
        "colab": {
          "base_uri": "https://localhost:8080/",
          "height": 447
        },
        "id": "vjEh9H_-4fX1",
        "outputId": "8ed3915b-1411-404b-b472-7479fdc46a15"
      },
      "execution_count": 60,
      "outputs": [
        {
          "output_type": "execute_result",
          "data": {
            "text/plain": [
              "[<matplotlib.lines.Line2D at 0x7bbbbdbba620>]"
            ]
          },
          "metadata": {},
          "execution_count": 60
        },
        {
          "output_type": "display_data",
          "data": {
            "text/plain": [
              "<Figure size 640x480 with 1 Axes>"
            ],
            "image/png": "[encoded data removed]"
          },
          "metadata": {}
        }
      ]
    }
  ]
}