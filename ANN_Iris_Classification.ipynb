{
  "nbformat": 4,
  "nbformat_minor": 0,
  "metadata": {
    "colab": {
      "provenance": [],
      "authorship_tag": "ABX9TyNxV+EbFFE0lg0pRz6GD5Uo",
      "include_colab_link": true
    },
    "kernelspec": {
      "name": "python3",
      "display_name": "Python 3"
    },
    "language_info": {
      "name": "python"
    }
  },
  "cells": [
    {
      "cell_type": "markdown",
      "metadata": {
        "id": "view-in-github",
        "colab_type": "text"
      },
      "source": [
        "<a href=\"https://colab.research.google.com/github/Manu-Sanchez/Learning/blob/ai%2Fbasic-gan/ANN_Iris_Classification.ipynb\" target=\"_parent\"><img src=\"https://colab.research.google.com/assets/colab-badge.svg\" alt=\"Open In Colab\"/></a>"
      ]
    },
    {
      "cell_type": "markdown",
      "source": [
        "# **Data Understanding**"
      ],
      "metadata": {
        "id": "ATwpL1PFm2ov"
      }
    },
    {
      "cell_type": "code",
      "execution_count": 2,
      "metadata": {
        "id": "vJRjoL-9FOL2"
      },
      "outputs": [],
      "source": [
        "import torch\n",
        "import numpy as np\n",
        "import pandas as pd\n",
        "import matplotlib.pyplot as plt\n",
        "\n",
        "%matplotlib inline"
      ]
    },
    {
      "cell_type": "markdown",
      "source": [
        "## Data Plotting"
      ],
      "metadata": {
        "id": "zmAmXa3OnHhY"
      }
    },
    {
      "cell_type": "code",
      "source": [
        "df = pd.read_csv(\"iris.csv\")\n",
        "df.head()"
      ],
      "metadata": {
        "colab": {
          "base_uri": "https://localhost:8080/",
          "height": 206
        },
        "id": "_yxJ-AWXfyts",
        "outputId": "3e94c51d-0dd1-429b-c6ca-8410d324e62d"
      },
      "execution_count": 4,
      "outputs": [
        {
          "output_type": "execute_result",
          "data": {
            "text/plain": [
              "   sepal length (cm)  sepal width (cm)  petal length (cm)  petal width (cm)  \\\n",
              "0                5.1               3.5                1.4               0.2   \n",
              "1                4.9               3.0                1.4               0.2   \n",
              "2                4.7               3.2                1.3               0.2   \n",
              "3                4.6               3.1                1.5               0.2   \n",
              "4                5.0               3.6                1.4               0.2   \n",
              "\n",
              "   target  \n",
              "0     0.0  \n",
              "1     0.0  \n",
              "2     0.0  \n",
              "3     0.0  \n",
              "4     0.0  "
            ],
            "text/html": [
              "\n",
              "  <div id=\"df-20b876f9-1563-48ff-8a81-13e5abdc77af\" class=\"colab-df-container\">\n",
              "    <div>\n",
              "<style scoped>\n",
              "    .dataframe tbody tr th:only-of-type {\n",
              "        vertical-align: middle;\n",
              "    }\n",
              "\n",
              "    .dataframe tbody tr th {\n",
              "        vertical-align: top;\n",
              "    }\n",
              "\n",
              "    .dataframe thead th {\n",
              "        text-align: right;\n",
              "    }\n",
              "</style>\n",
              "<table border=\"1\" class=\"dataframe\">\n",
              "  <thead>\n",
              "    <tr style=\"text-align: right;\">\n",
              "      <th></th>\n",
              "      <th>sepal length (cm)</th>\n",
              "      <th>sepal width (cm)</th>\n",
              "      <th>petal length (cm)</th>\n",
              "      <th>petal width (cm)</th>\n",
              "      <th>target</th>\n",
              "    </tr>\n",
              "  </thead>\n",
              "  <tbody>\n",
              "    <tr>\n",
              "      <th>0</th>\n",
              "      <td>5.1</td>\n",
              "      <td>3.5</td>\n",
              "      <td>1.4</td>\n",
              "      <td>0.2</td>\n",
              "      <td>0.0</td>\n",
              "    </tr>\n",
              "    <tr>\n",
              "      <th>1</th>\n",
              "      <td>4.9</td>\n",
              "      <td>3.0</td>\n",
              "      <td>1.4</td>\n",
              "      <td>0.2</td>\n",
              "      <td>0.0</td>\n",
              "    </tr>\n",
              "    <tr>\n",
              "      <th>2</th>\n",
              "      <td>4.7</td>\n",
              "      <td>3.2</td>\n",
              "      <td>1.3</td>\n",
              "      <td>0.2</td>\n",
              "      <td>0.0</td>\n",
              "    </tr>\n",
              "    <tr>\n",
              "      <th>3</th>\n",
              "      <td>4.6</td>\n",
              "      <td>3.1</td>\n",
              "      <td>1.5</td>\n",
              "      <td>0.2</td>\n",
              "      <td>0.0</td>\n",
              "    </tr>\n",
              "    <tr>\n",
              "      <th>4</th>\n",
              "      <td>5.0</td>\n",
              "      <td>3.6</td>\n",
              "      <td>1.4</td>\n",
              "      <td>0.2</td>\n",
              "      <td>0.0</td>\n",
              "    </tr>\n",
              "  </tbody>\n",
              "</table>\n",
              "</div>\n",
              "    <div class=\"colab-df-buttons\">\n",
              "\n",
              "  <div class=\"colab-df-container\">\n",
              "    <button class=\"colab-df-convert\" onclick=\"convertToInteractive('df-20b876f9-1563-48ff-8a81-13e5abdc77af')\"\n",
              "            title=\"Convert this dataframe to an interactive table.\"\n",
              "            style=\"display:none;\">\n",
              "\n",
              "  <svg xmlns=\"http://www.w3.org/2000/svg\" height=\"24px\" viewBox=\"0 -960 960 960\">\n",
              "    <path d=\"M120-120v-720h720v720H120Zm60-500h600v-160H180v160Zm220 220h160v-160H400v160Zm0 220h160v-160H400v160ZM180-400h160v-160H180v160Zm440 0h160v-160H620v160ZM180-180h160v-160H180v160Zm440 0h160v-160H620v160Z\"/>\n",
              "  </svg>\n",
              "    </button>\n",
              "\n",
              "  <style>\n",
              "    .colab-df-container {\n",
              "      display:flex;\n",
              "      gap: 12px;\n",
              "    }\n",
              "\n",
              "    .colab-df-convert {\n",
              "      background-color: #E8F0FE;\n",
              "      border: none;\n",
              "      border-radius: 50%;\n",
              "      cursor: pointer;\n",
              "      display: none;\n",
              "      fill: #1967D2;\n",
              "      height: 32px;\n",
              "      padding: 0 0 0 0;\n",
              "      width: 32px;\n",
              "    }\n",
              "\n",
              "    .colab-df-convert:hover {\n",
              "      background-color: #E2EBFA;\n",
              "      box-shadow: 0px 1px 2px rgba(60, 64, 67, 0.3), 0px 1px 3px 1px rgba(60, 64, 67, 0.15);\n",
              "      fill: #174EA6;\n",
              "    }\n",
              "\n",
              "    .colab-df-buttons div {\n",
              "      margin-bottom: 4px;\n",
              "    }\n",
              "\n",
              "    [theme=dark] .colab-df-convert {\n",
              "      background-color: #3B4455;\n",
              "      fill: #D2E3FC;\n",
              "    }\n",
              "\n",
              "    [theme=dark] .colab-df-convert:hover {\n",
              "      background-color: #434B5C;\n",
              "      box-shadow: 0px 1px 3px 1px rgba(0, 0, 0, 0.15);\n",
              "      filter: drop-shadow(0px 1px 2px rgba(0, 0, 0, 0.3));\n",
              "      fill: #FFFFFF;\n",
              "    }\n",
              "  </style>\n",
              "\n",
              "    <script>\n",
              "      const buttonEl =\n",
              "        document.querySelector('#df-20b876f9-1563-48ff-8a81-13e5abdc77af button.colab-df-convert');\n",
              "      buttonEl.style.display =\n",
              "        google.colab.kernel.accessAllowed ? 'block' : 'none';\n",
              "\n",
              "      async function convertToInteractive(key) {\n",
              "        const element = document.querySelector('#df-20b876f9-1563-48ff-8a81-13e5abdc77af');\n",
              "        const dataTable =\n",
              "          await google.colab.kernel.invokeFunction('convertToInteractive',\n",
              "                                                    [key], {});\n",
              "        if (!dataTable) return;\n",
              "\n",
              "        const docLinkHtml = 'Like what you see? Visit the ' +\n",
              "          '<a target=\"_blank\" href=https://colab.research.google.com/notebooks/data_table.ipynb>data table notebook</a>'\n",
              "          + ' to learn more about interactive tables.';\n",
              "        element.innerHTML = '';\n",
              "        dataTable['output_type'] = 'display_data';\n",
              "        await google.colab.output.renderOutput(dataTable, element);\n",
              "        const docLink = document.createElement('div');\n",
              "        docLink.innerHTML = docLinkHtml;\n",
              "        element.appendChild(docLink);\n",
              "      }\n",
              "    </script>\n",
              "  </div>\n",
              "\n",
              "\n",
              "<div id=\"df-bce96cf0-cfff-48ba-9231-3d96d305c111\">\n",
              "  <button class=\"colab-df-quickchart\" onclick=\"quickchart('df-bce96cf0-cfff-48ba-9231-3d96d305c111')\"\n",
              "            title=\"Suggest charts\"\n",
              "            style=\"display:none;\">\n",
              "\n",
              "<svg xmlns=\"http://www.w3.org/2000/svg\" height=\"24px\"viewBox=\"0 0 24 24\"\n",
              "     width=\"24px\">\n",
              "    <g>\n",
              "        <path d=\"M19 3H5c-1.1 0-2 .9-2 2v14c0 1.1.9 2 2 2h14c1.1 0 2-.9 2-2V5c0-1.1-.9-2-2-2zM9 17H7v-7h2v7zm4 0h-2V7h2v10zm4 0h-2v-4h2v4z\"/>\n",
              "    </g>\n",
              "</svg>\n",
              "  </button>\n",
              "\n",
              "<style>\n",
              "  .colab-df-quickchart {\n",
              "      --bg-color: #E8F0FE;\n",
              "      --fill-color: #1967D2;\n",
              "      --hover-bg-color: #E2EBFA;\n",
              "      --hover-fill-color: #174EA6;\n",
              "      --disabled-fill-color: #AAA;\n",
              "      --disabled-bg-color: #DDD;\n",
              "  }\n",
              "\n",
              "  [theme=dark] .colab-df-quickchart {\n",
              "      --bg-color: #3B4455;\n",
              "      --fill-color: #D2E3FC;\n",
              "      --hover-bg-color: #434B5C;\n",
              "      --hover-fill-color: #FFFFFF;\n",
              "      --disabled-bg-color: #3B4455;\n",
              "      --disabled-fill-color: #666;\n",
              "  }\n",
              "\n",
              "  .colab-df-quickchart {\n",
              "    background-color: var(--bg-color);\n",
              "    border: none;\n",
              "    border-radius: 50%;\n",
              "    cursor: pointer;\n",
              "    display: none;\n",
              "    fill: var(--fill-color);\n",
              "    height: 32px;\n",
              "    padding: 0;\n",
              "    width: 32px;\n",
              "  }\n",
              "\n",
              "  .colab-df-quickchart:hover {\n",
              "    background-color: var(--hover-bg-color);\n",
              "    box-shadow: 0 1px 2px rgba(60, 64, 67, 0.3), 0 1px 3px 1px rgba(60, 64, 67, 0.15);\n",
              "    fill: var(--button-hover-fill-color);\n",
              "  }\n",
              "\n",
              "  .colab-df-quickchart-complete:disabled,\n",
              "  .colab-df-quickchart-complete:disabled:hover {\n",
              "    background-color: var(--disabled-bg-color);\n",
              "    fill: var(--disabled-fill-color);\n",
              "    box-shadow: none;\n",
              "  }\n",
              "\n",
              "  .colab-df-spinner {\n",
              "    border: 2px solid var(--fill-color);\n",
              "    border-color: transparent;\n",
              "    border-bottom-color: var(--fill-color);\n",
              "    animation:\n",
              "      spin 1s steps(1) infinite;\n",
              "  }\n",
              "\n",
              "  @keyframes spin {\n",
              "    0% {\n",
              "      border-color: transparent;\n",
              "      border-bottom-color: var(--fill-color);\n",
              "      border-left-color: var(--fill-color);\n",
              "    }\n",
              "    20% {\n",
              "      border-color: transparent;\n",
              "      border-left-color: var(--fill-color);\n",
              "      border-top-color: var(--fill-color);\n",
              "    }\n",
              "    30% {\n",
              "      border-color: transparent;\n",
              "      border-left-color: var(--fill-color);\n",
              "      border-top-color: var(--fill-color);\n",
              "      border-right-color: var(--fill-color);\n",
              "    }\n",
              "    40% {\n",
              "      border-color: transparent;\n",
              "      border-right-color: var(--fill-color);\n",
              "      border-top-color: var(--fill-color);\n",
              "    }\n",
              "    60% {\n",
              "      border-color: transparent;\n",
              "      border-right-color: var(--fill-color);\n",
              "    }\n",
              "    80% {\n",
              "      border-color: transparent;\n",
              "      border-right-color: var(--fill-color);\n",
              "      border-bottom-color: var(--fill-color);\n",
              "    }\n",
              "    90% {\n",
              "      border-color: transparent;\n",
              "      border-bottom-color: var(--fill-color);\n",
              "    }\n",
              "  }\n",
              "</style>\n",
              "\n",
              "  <script>\n",
              "    async function quickchart(key) {\n",
              "      const quickchartButtonEl =\n",
              "        document.querySelector('#' + key + ' button');\n",
              "      quickchartButtonEl.disabled = true;  // To prevent multiple clicks.\n",
              "      quickchartButtonEl.classList.add('colab-df-spinner');\n",
              "      try {\n",
              "        const charts = await google.colab.kernel.invokeFunction(\n",
              "            'suggestCharts', [key], {});\n",
              "      } catch (error) {\n",
              "        console.error('Error during call to suggestCharts:', error);\n",
              "      }\n",
              "      quickchartButtonEl.classList.remove('colab-df-spinner');\n",
              "      quickchartButtonEl.classList.add('colab-df-quickchart-complete');\n",
              "    }\n",
              "    (() => {\n",
              "      let quickchartButtonEl =\n",
              "        document.querySelector('#df-bce96cf0-cfff-48ba-9231-3d96d305c111 button');\n",
              "      quickchartButtonEl.style.display =\n",
              "        google.colab.kernel.accessAllowed ? 'block' : 'none';\n",
              "    })();\n",
              "  </script>\n",
              "</div>\n",
              "    </div>\n",
              "  </div>\n"
            ]
          },
          "metadata": {},
          "execution_count": 4
        }
      ]
    },
    {
      "cell_type": "code",
      "source": [
        "#Understanding of the dataset\n",
        "\n",
        "#We can see target column, we'll check which ones are the actual classes\n",
        "class_list = list(df[\"target\"].unique())\n",
        "print(class_list)\n",
        "\n",
        "fig, axes = plt.subplots(nrows=2, ncols=2, figsize=(10,7))\n",
        "fig.tight_layout()\n",
        "\n",
        "plots = [(0, 1), (2, 3), (0, 2), (1, 3)]\n",
        "colors = ['b', 'g', 'r']\n",
        "labels = [\n",
        "    \"Iris Setosa\",\n",
        "    \"Iris Virginica\",\n",
        "    \"Iris Versicolor\"\n",
        "]\n",
        "\n",
        "print(list(enumerate(axes.flat)))\n",
        "print(df.columns)\n",
        "\n",
        "#Iterate for every axe\n",
        "for i, ax in enumerate(axes.flat):\n",
        "  #Iterate each class\n",
        "  for j in range(3):\n",
        "    x = df.columns[plots[i][0]]\n",
        "    y = df.columns[plots[i][1]]\n",
        "\n",
        "    target_data = df[df['target'] == j]\n",
        "\n",
        "    ax.scatter(target_data[x], target_data[y], color=colors[j])\n",
        "    ax.set(\n",
        "        xlabel=x,\n",
        "        ylabel=y\n",
        "    )\n",
        "\n",
        "fig.legend(labels=labels, loc=3, bbox_to_anchor=(1.0, 0.85))\n",
        "plt.show()\n",
        "\n",
        "\n"
      ],
      "metadata": {
        "colab": {
          "base_uri": "https://localhost:8080/",
          "height": 811
        },
        "id": "FqQj_eEyf51c",
        "outputId": "8e3ef6e3-f281-4e99-8a07-fdc67a7fc3dd"
      },
      "execution_count": 15,
      "outputs": [
        {
          "output_type": "stream",
          "name": "stdout",
          "text": [
            "[0.0, 1.0, 2.0]\n",
            "[(0, <Axes: >), (1, <Axes: >), (2, <Axes: >), (3, <Axes: >)]\n",
            "Index(['sepal length (cm)', 'sepal width (cm)', 'petal length (cm)',\n",
            "       'petal width (cm)', 'target'],\n",
            "      dtype='object')\n"
          ]
        },
        {
          "output_type": "display_data",
          "data": {
            "text/plain": [
              "<Figure size 1000x700 with 4 Axes>"
            ],
            "image/png": "[encoded data removed]"
          },
          "metadata": {}
        }
      ]
    },
    {
      "cell_type": "markdown",
      "source": [
        "### **Dataset Train/Test Split**"
      ],
      "metadata": {
        "id": "qSffDIWSjedJ"
      }
    },
    {
      "cell_type": "markdown",
      "source": [
        "#### Option #1: Sklearn"
      ],
      "metadata": {
        "id": "pgEhFCsEjuQY"
      }
    },
    {
      "cell_type": "code",
      "source": [
        "#train test split\n",
        "from sklearn.model_selection import train_test_split"
      ],
      "metadata": {
        "id": "wNXTdtjLiAr6"
      },
      "execution_count": 16,
      "outputs": []
    },
    {
      "cell_type": "code",
      "source": [
        "features = df.drop('target', axis=1).values\n",
        "label = df['target'].values\n",
        "\n",
        "x_tr, x_ts, y_tr, y_ts = train_test_split(\n",
        "    features,\n",
        "    label,\n",
        "    test_size=.2,\n",
        "    random_state=33\n",
        ")\n",
        "\n",
        "print(x_tr[:5])\n",
        "print(y_tr[:5])"
      ],
      "metadata": {
        "colab": {
          "base_uri": "https://localhost:8080/"
        },
        "id": "B78vYPQ3iJNR",
        "outputId": "cce9093a-d07c-48f9-8113-62ec432b2b04"
      },
      "execution_count": 23,
      "outputs": [
        {
          "output_type": "stream",
          "name": "stdout",
          "text": [
            "[[5.6 2.7 4.2 1.3]\n",
            " [6.7 3.1 4.7 1.5]\n",
            " [5.6 2.8 4.9 2. ]\n",
            " [6.4 3.2 5.3 2.3]\n",
            " [6.7 3.1 5.6 2.4]]\n",
            "[1. 1. 2. 2. 2.]\n"
          ]
        }
      ]
    },
    {
      "cell_type": "code",
      "source": [
        "#Cast to torch tensors\n",
        "x_tr = torch.tensor(x_tr, dtype=torch.float)\n",
        "x_ts = torch.tensor(x_ts, dtype=torch.float)\n",
        "\n",
        "y_tr = torch.tensor(y_tr, dtype=torch.int).reshape(-1, 1)\n",
        "y_ts = torch.tensor(y_ts, dtype=torch.int).reshape(-1, 1)"
      ],
      "metadata": {
        "id": "G3GMjqpliv9c"
      },
      "execution_count": 24,
      "outputs": []
    },
    {
      "cell_type": "markdown",
      "source": [
        "#### Option #2: Torch"
      ],
      "metadata": {
        "id": "jYDMicDRjxvD"
      }
    },
    {
      "cell_type": "code",
      "source": [
        "from torch.utils.data import TensorDataset, DataLoader"
      ],
      "metadata": {
        "id": "qOMr7BNCjc0Q"
      },
      "execution_count": 26,
      "outputs": []
    },
    {
      "cell_type": "code",
      "source": [
        "features = df.drop('target', axis=1).values\n",
        "labels = df['target'].values\n",
        "\n",
        "iris_ds = TensorDataset(\n",
        "    torch.tensor(features, dtype=float),\n",
        "    torch.tensor(labels, dtype=int)\n",
        ")\n",
        "\n",
        "for i in range(5):\n",
        "  print(iris_ds[i])"
      ],
      "metadata": {
        "colab": {
          "base_uri": "https://localhost:8080/"
        },
        "id": "DoSND_74j72O",
        "outputId": "8b4b8183-d4fc-4adc-98ee-d5766f5ac276"
      },
      "execution_count": 31,
      "outputs": [
        {
          "output_type": "stream",
          "name": "stdout",
          "text": [
            "(tensor([5.1000, 3.5000, 1.4000, 0.2000], dtype=torch.float64), tensor(0))\n",
            "(tensor([4.9000, 3.0000, 1.4000, 0.2000], dtype=torch.float64), tensor(0))\n",
            "(tensor([4.7000, 3.2000, 1.3000, 0.2000], dtype=torch.float64), tensor(0))\n",
            "(tensor([4.6000, 3.1000, 1.5000, 0.2000], dtype=torch.float64), tensor(0))\n",
            "(tensor([5.0000, 3.6000, 1.4000, 0.2000], dtype=torch.float64), tensor(0))\n"
          ]
        }
      ]
    },
    {
      "cell_type": "code",
      "source": [
        "iris_loader = DataLoader(iris_ds, batch_size=50, shuffle=True)"
      ],
      "metadata": {
        "id": "X6oTybhekyqe"
      },
      "execution_count": 32,
      "outputs": []
    },
    {
      "cell_type": "code",
      "source": [
        "for idx, itm_batch in enumerate(iris_loader):\n",
        "  print(idx, itm_batch)"
      ],
      "metadata": {
        "colab": {
          "base_uri": "https://localhost:8080/"
        },
        "id": "4LEC9YSTlCfK",
        "outputId": "bbbba08f-a172-473c-8d87-ba70026ed8fb"
      },
      "execution_count": 35,
      "outputs": [
        {
          "output_type": "stream",
          "name": "stdout",
          "text": [
            "0 [tensor([[6.7000, 2.5000, 5.8000, 1.8000],\n",
            "        [5.0000, 3.5000, 1.3000, 0.3000],\n",
            "        [6.2000, 2.8000, 4.8000, 1.8000],\n",
            "        [5.5000, 2.4000, 3.8000, 1.1000],\n",
            "        [5.0000, 3.0000, 1.6000, 0.2000],\n",
            "        [6.7000, 3.0000, 5.2000, 2.3000],\n",
            "        [5.9000, 3.0000, 4.2000, 1.5000],\n",
            "        [5.4000, 3.0000, 4.5000, 1.5000],\n",
            "        [6.2000, 3.4000, 5.4000, 2.3000],\n",
            "        [5.2000, 4.1000, 1.5000, 0.1000],\n",
            "        [5.0000, 3.4000, 1.5000, 0.2000],\n",
            "        [5.8000, 2.7000, 5.1000, 1.9000],\n",
            "        [6.7000, 3.0000, 5.0000, 1.7000],\n",
            "        [5.8000, 2.7000, 5.1000, 1.9000],\n",
            "        [6.8000, 3.0000, 5.5000, 2.1000],\n",
            "        [4.5000, 2.3000, 1.3000, 0.3000],\n",
            "        [4.3000, 3.0000, 1.1000, 0.1000],\n",
            "        [5.8000, 4.0000, 1.2000, 0.2000],\n",
            "        [4.6000, 3.6000, 1.0000, 0.2000],\n",
            "        [4.4000, 3.2000, 1.3000, 0.2000],\n",
            "        [4.7000, 3.2000, 1.3000, 0.2000],\n",
            "        [5.6000, 2.5000, 3.9000, 1.1000],\n",
            "        [4.4000, 3.0000, 1.3000, 0.2000],\n",
            "        [5.1000, 3.5000, 1.4000, 0.3000],\n",
            "        [5.1000, 3.8000, 1.9000, 0.4000],\n",
            "        [7.7000, 3.0000, 6.1000, 2.3000],\n",
            "        [6.0000, 3.0000, 4.8000, 1.8000],\n",
            "        [5.2000, 3.4000, 1.4000, 0.2000],\n",
            "        [5.1000, 3.3000, 1.7000, 0.5000],\n",
            "        [6.9000, 3.1000, 4.9000, 1.5000],\n",
            "        [6.3000, 2.5000, 5.0000, 1.9000],\n",
            "        [5.8000, 2.7000, 4.1000, 1.0000],\n",
            "        [5.0000, 3.2000, 1.2000, 0.2000],\n",
            "        [6.0000, 2.2000, 4.0000, 1.0000],\n",
            "        [6.4000, 2.8000, 5.6000, 2.2000],\n",
            "        [5.1000, 3.7000, 1.5000, 0.4000],\n",
            "        [6.5000, 3.0000, 5.2000, 2.0000],\n",
            "        [5.9000, 3.2000, 4.8000, 1.8000],\n",
            "        [4.6000, 3.2000, 1.4000, 0.2000],\n",
            "        [4.6000, 3.1000, 1.5000, 0.2000],\n",
            "        [5.6000, 3.0000, 4.5000, 1.5000],\n",
            "        [6.7000, 3.1000, 5.6000, 2.4000],\n",
            "        [7.2000, 3.6000, 6.1000, 2.5000],\n",
            "        [7.2000, 3.2000, 6.0000, 1.8000],\n",
            "        [6.9000, 3.1000, 5.1000, 2.3000],\n",
            "        [7.0000, 3.2000, 4.7000, 1.4000],\n",
            "        [4.8000, 3.4000, 1.6000, 0.2000],\n",
            "        [6.7000, 3.3000, 5.7000, 2.1000],\n",
            "        [6.4000, 3.1000, 5.5000, 1.8000],\n",
            "        [6.1000, 2.6000, 5.6000, 1.4000]], dtype=torch.float64), tensor([2, 0, 2, 1, 0, 2, 1, 1, 2, 0, 0, 2, 1, 2, 2, 0, 0, 0, 0, 0, 0, 1, 0, 0,\n",
            "        0, 2, 2, 0, 0, 1, 2, 1, 0, 1, 2, 0, 2, 1, 0, 0, 1, 2, 2, 2, 2, 1, 0, 2,\n",
            "        2, 2])]\n",
            "1 [tensor([[5.1000, 3.4000, 1.5000, 0.2000],\n",
            "        [4.9000, 3.1000, 1.5000, 0.1000],\n",
            "        [5.5000, 2.4000, 3.7000, 1.0000],\n",
            "        [5.1000, 3.8000, 1.6000, 0.2000],\n",
            "        [6.1000, 2.8000, 4.7000, 1.2000],\n",
            "        [5.4000, 3.4000, 1.5000, 0.4000],\n",
            "        [6.3000, 2.8000, 5.1000, 1.5000],\n",
            "        [6.4000, 3.2000, 4.5000, 1.5000],\n",
            "        [6.1000, 2.9000, 4.7000, 1.4000],\n",
            "        [6.4000, 2.8000, 5.6000, 2.1000],\n",
            "        [5.7000, 2.6000, 3.5000, 1.0000],\n",
            "        [6.8000, 3.2000, 5.9000, 2.3000],\n",
            "        [6.9000, 3.1000, 5.4000, 2.1000],\n",
            "        [4.8000, 3.0000, 1.4000, 0.3000],\n",
            "        [5.5000, 2.5000, 4.0000, 1.3000],\n",
            "        [5.7000, 2.8000, 4.5000, 1.3000],\n",
            "        [5.0000, 2.0000, 3.5000, 1.0000],\n",
            "        [6.5000, 3.2000, 5.1000, 2.0000],\n",
            "        [7.3000, 2.9000, 6.3000, 1.8000],\n",
            "        [6.0000, 2.2000, 5.0000, 1.5000],\n",
            "        [7.7000, 2.8000, 6.7000, 2.0000],\n",
            "        [5.4000, 3.4000, 1.7000, 0.2000],\n",
            "        [7.6000, 3.0000, 6.6000, 2.1000],\n",
            "        [6.1000, 2.8000, 4.0000, 1.3000],\n",
            "        [5.7000, 2.9000, 4.2000, 1.3000],\n",
            "        [5.5000, 2.3000, 4.0000, 1.3000],\n",
            "        [7.7000, 2.6000, 6.9000, 2.3000],\n",
            "        [4.9000, 2.4000, 3.3000, 1.0000],\n",
            "        [5.7000, 4.4000, 1.5000, 0.4000],\n",
            "        [6.5000, 2.8000, 4.6000, 1.5000],\n",
            "        [6.3000, 2.5000, 4.9000, 1.5000],\n",
            "        [5.7000, 3.8000, 1.7000, 0.3000],\n",
            "        [6.0000, 2.7000, 5.1000, 1.6000],\n",
            "        [5.5000, 3.5000, 1.3000, 0.2000],\n",
            "        [7.9000, 3.8000, 6.4000, 2.0000],\n",
            "        [5.6000, 2.8000, 4.9000, 2.0000],\n",
            "        [5.3000, 3.7000, 1.5000, 0.2000],\n",
            "        [5.2000, 3.5000, 1.5000, 0.2000],\n",
            "        [5.1000, 3.5000, 1.4000, 0.2000],\n",
            "        [5.6000, 2.9000, 3.6000, 1.3000],\n",
            "        [5.9000, 3.0000, 5.1000, 1.8000],\n",
            "        [4.8000, 3.0000, 1.4000, 0.1000],\n",
            "        [6.1000, 3.0000, 4.9000, 1.8000],\n",
            "        [6.4000, 2.7000, 5.3000, 1.9000],\n",
            "        [4.4000, 2.9000, 1.4000, 0.2000],\n",
            "        [7.1000, 3.0000, 5.9000, 2.1000],\n",
            "        [7.2000, 3.0000, 5.8000, 1.6000],\n",
            "        [5.0000, 3.6000, 1.4000, 0.2000],\n",
            "        [6.2000, 2.9000, 4.3000, 1.3000],\n",
            "        [5.5000, 2.6000, 4.4000, 1.2000]], dtype=torch.float64), tensor([0, 0, 1, 0, 1, 0, 2, 1, 1, 2, 1, 2, 2, 0, 1, 1, 1, 2, 2, 2, 2, 0, 2, 1,\n",
            "        1, 1, 2, 1, 0, 1, 1, 0, 1, 0, 2, 2, 0, 0, 0, 1, 2, 0, 2, 2, 0, 2, 2, 0,\n",
            "        1, 1])]\n",
            "2 [tensor([[6.7000, 3.1000, 4.7000, 1.5000],\n",
            "        [7.4000, 2.8000, 6.1000, 1.9000],\n",
            "        [6.0000, 2.9000, 4.5000, 1.5000],\n",
            "        [5.4000, 3.9000, 1.7000, 0.4000],\n",
            "        [6.3000, 2.3000, 4.4000, 1.3000],\n",
            "        [6.3000, 2.9000, 5.6000, 1.8000],\n",
            "        [6.1000, 3.0000, 4.6000, 1.4000],\n",
            "        [6.5000, 3.0000, 5.8000, 2.2000],\n",
            "        [4.9000, 3.1000, 1.5000, 0.1000],\n",
            "        [6.9000, 3.2000, 5.7000, 2.3000],\n",
            "        [4.7000, 3.2000, 1.6000, 0.2000],\n",
            "        [6.5000, 3.0000, 5.5000, 1.8000],\n",
            "        [6.0000, 3.4000, 4.5000, 1.6000],\n",
            "        [5.5000, 4.2000, 1.4000, 0.2000],\n",
            "        [6.7000, 3.3000, 5.7000, 2.5000],\n",
            "        [4.9000, 2.5000, 4.5000, 1.7000],\n",
            "        [7.7000, 3.8000, 6.7000, 2.2000],\n",
            "        [6.7000, 3.1000, 4.4000, 1.4000],\n",
            "        [5.2000, 2.7000, 3.9000, 1.4000],\n",
            "        [6.4000, 2.9000, 4.3000, 1.3000],\n",
            "        [6.8000, 2.8000, 4.8000, 1.4000],\n",
            "        [6.6000, 2.9000, 4.6000, 1.3000],\n",
            "        [6.3000, 3.3000, 6.0000, 2.5000],\n",
            "        [5.6000, 3.0000, 4.1000, 1.3000],\n",
            "        [4.9000, 3.0000, 1.4000, 0.2000],\n",
            "        [5.0000, 3.3000, 1.4000, 0.2000],\n",
            "        [6.3000, 3.4000, 5.6000, 2.4000],\n",
            "        [5.7000, 3.0000, 4.2000, 1.2000],\n",
            "        [4.6000, 3.4000, 1.4000, 0.3000],\n",
            "        [5.4000, 3.9000, 1.3000, 0.4000],\n",
            "        [5.8000, 2.6000, 4.0000, 1.2000],\n",
            "        [6.2000, 2.2000, 4.5000, 1.5000],\n",
            "        [5.0000, 2.3000, 3.3000, 1.0000],\n",
            "        [5.1000, 3.8000, 1.5000, 0.3000],\n",
            "        [6.4000, 3.2000, 5.3000, 2.3000],\n",
            "        [6.3000, 3.3000, 4.7000, 1.6000],\n",
            "        [4.8000, 3.1000, 1.6000, 0.2000],\n",
            "        [5.7000, 2.8000, 4.1000, 1.3000],\n",
            "        [6.3000, 2.7000, 4.9000, 1.8000],\n",
            "        [5.4000, 3.7000, 1.5000, 0.2000],\n",
            "        [5.7000, 2.5000, 5.0000, 2.0000],\n",
            "        [5.8000, 2.7000, 3.9000, 1.2000],\n",
            "        [4.9000, 3.1000, 1.5000, 0.1000],\n",
            "        [5.8000, 2.8000, 5.1000, 2.4000],\n",
            "        [5.0000, 3.4000, 1.6000, 0.4000],\n",
            "        [4.8000, 3.4000, 1.9000, 0.2000],\n",
            "        [6.6000, 3.0000, 4.4000, 1.4000],\n",
            "        [5.6000, 2.7000, 4.2000, 1.3000],\n",
            "        [5.1000, 2.5000, 3.0000, 1.1000],\n",
            "        [5.0000, 3.5000, 1.6000, 0.6000]], dtype=torch.float64), tensor([1, 2, 1, 0, 1, 2, 1, 2, 0, 2, 0, 2, 1, 0, 2, 2, 2, 1, 1, 1, 1, 1, 2, 1,\n",
            "        0, 0, 2, 1, 0, 0, 1, 1, 1, 0, 2, 1, 0, 1, 2, 0, 2, 1, 0, 2, 0, 0, 1, 1,\n",
            "        1, 0])]\n"
          ]
        }
      ]
    },
    {
      "cell_type": "markdown",
      "source": [
        "# **Classification Model**"
      ],
      "metadata": {
        "id": "JbmgGmmDm95K"
      }
    },
    {
      "cell_type": "code",
      "source": [
        "import torch\n",
        "import torch.nn as nn\n",
        "import torch.nn.functional as F\n",
        "\n",
        "import pandas as pd\n",
        "import matplotlib.pyplot as plt\n",
        "from torch.utils.data import TensorDataset, DataLoader\n",
        "from sklearn.model_selection import train_test_split\n",
        "\n",
        "%matplotlib inline"
      ],
      "metadata": {
        "id": "PPs1L57SnEfK"
      },
      "execution_count": 55,
      "outputs": []
    },
    {
      "cell_type": "markdown",
      "source": [
        "## Hyperparameter Definition"
      ],
      "metadata": {
        "id": "iVpGDPnvpK4-"
      }
    },
    {
      "cell_type": "code",
      "source": [
        "epochs = 100\n",
        "seed = 32\n",
        "lr = 1e-2\n",
        "\n",
        "torch.manual_seed(seed)"
      ],
      "metadata": {
        "colab": {
          "base_uri": "https://localhost:8080/"
        },
        "id": "60vRa9oroyJU",
        "outputId": "70605a9d-6cfe-47ad-d95e-40da6fe384b0"
      },
      "execution_count": 51,
      "outputs": [
        {
          "output_type": "execute_result",
          "data": {
            "text/plain": [
              "<torch._C.Generator at 0x7f0d6da213b0>"
            ]
          },
          "metadata": {},
          "execution_count": 51
        }
      ]
    },
    {
      "cell_type": "markdown",
      "source": [
        "## Data Load"
      ],
      "metadata": {
        "id": "yspB28XMpOBl"
      }
    },
    {
      "cell_type": "code",
      "source": [
        "df = pd.read_csv(\"iris.csv\")\n",
        "df.head(5)"
      ],
      "metadata": {
        "colab": {
          "base_uri": "https://localhost:8080/",
          "height": 206
        },
        "id": "phJw_mwWpQgx",
        "outputId": "044fe4ee-18e0-4540-f101-54d2873d1c75"
      },
      "execution_count": 44,
      "outputs": [
        {
          "output_type": "execute_result",
          "data": {
            "text/plain": [
              "   sepal length (cm)  sepal width (cm)  petal length (cm)  petal width (cm)  \\\n",
              "0                5.1               3.5                1.4               0.2   \n",
              "1                4.9               3.0                1.4               0.2   \n",
              "2                4.7               3.2                1.3               0.2   \n",
              "3                4.6               3.1                1.5               0.2   \n",
              "4                5.0               3.6                1.4               0.2   \n",
              "\n",
              "   target  \n",
              "0     0.0  \n",
              "1     0.0  \n",
              "2     0.0  \n",
              "3     0.0  \n",
              "4     0.0  "
            ],
            "text/html": [
              "\n",
              "  <div id=\"df-fe2188e0-4768-4333-9862-6b19f8cb046d\" class=\"colab-df-container\">\n",
              "    <div>\n",
              "<style scoped>\n",
              "    .dataframe tbody tr th:only-of-type {\n",
              "        vertical-align: middle;\n",
              "    }\n",
              "\n",
              "    .dataframe tbody tr th {\n",
              "        vertical-align: top;\n",
              "    }\n",
              "\n",
              "    .dataframe thead th {\n",
              "        text-align: right;\n",
              "    }\n",
              "</style>\n",
              "<table border=\"1\" class=\"dataframe\">\n",
              "  <thead>\n",
              "    <tr style=\"text-align: right;\">\n",
              "      <th></th>\n",
              "      <th>sepal length (cm)</th>\n",
              "      <th>sepal width (cm)</th>\n",
              "      <th>petal length (cm)</th>\n",
              "      <th>petal width (cm)</th>\n",
              "      <th>target</th>\n",
              "    </tr>\n",
              "  </thead>\n",
              "  <tbody>\n",
              "    <tr>\n",
              "      <th>0</th>\n",
              "      <td>5.1</td>\n",
              "      <td>3.5</td>\n",
              "      <td>1.4</td>\n",
              "      <td>0.2</td>\n",
              "      <td>0.0</td>\n",
              "    </tr>\n",
              "    <tr>\n",
              "      <th>1</th>\n",
              "      <td>4.9</td>\n",
              "      <td>3.0</td>\n",
              "      <td>1.4</td>\n",
              "      <td>0.2</td>\n",
              "      <td>0.0</td>\n",
              "    </tr>\n",
              "    <tr>\n",
              "      <th>2</th>\n",
              "      <td>4.7</td>\n",
              "      <td>3.2</td>\n",
              "      <td>1.3</td>\n",
              "      <td>0.2</td>\n",
              "      <td>0.0</td>\n",
              "    </tr>\n",
              "    <tr>\n",
              "      <th>3</th>\n",
              "      <td>4.6</td>\n",
              "      <td>3.1</td>\n",
              "      <td>1.5</td>\n",
              "      <td>0.2</td>\n",
              "      <td>0.0</td>\n",
              "    </tr>\n",
              "    <tr>\n",
              "      <th>4</th>\n",
              "      <td>5.0</td>\n",
              "      <td>3.6</td>\n",
              "      <td>1.4</td>\n",
              "      <td>0.2</td>\n",
              "      <td>0.0</td>\n",
              "    </tr>\n",
              "  </tbody>\n",
              "</table>\n",
              "</div>\n",
              "    <div class=\"colab-df-buttons\">\n",
              "\n",
              "  <div class=\"colab-df-container\">\n",
              "    <button class=\"colab-df-convert\" onclick=\"convertToInteractive('df-fe2188e0-4768-4333-9862-6b19f8cb046d')\"\n",
              "            title=\"Convert this dataframe to an interactive table.\"\n",
              "            style=\"display:none;\">\n",
              "\n",
              "  <svg xmlns=\"http://www.w3.org/2000/svg\" height=\"24px\" viewBox=\"0 -960 960 960\">\n",
              "    <path d=\"M120-120v-720h720v720H120Zm60-500h600v-160H180v160Zm220 220h160v-160H400v160Zm0 220h160v-160H400v160ZM180-400h160v-160H180v160Zm440 0h160v-160H620v160ZM180-180h160v-160H180v160Zm440 0h160v-160H620v160Z\"/>\n",
              "  </svg>\n",
              "    </button>\n",
              "\n",
              "  <style>\n",
              "    .colab-df-container {\n",
              "      display:flex;\n",
              "      gap: 12px;\n",
              "    }\n",
              "\n",
              "    .colab-df-convert {\n",
              "      background-color: #E8F0FE;\n",
              "      border: none;\n",
              "      border-radius: 50%;\n",
              "      cursor: pointer;\n",
              "      display: none;\n",
              "      fill: #1967D2;\n",
              "      height: 32px;\n",
              "      padding: 0 0 0 0;\n",
              "      width: 32px;\n",
              "    }\n",
              "\n",
              "    .colab-df-convert:hover {\n",
              "      background-color: #E2EBFA;\n",
              "      box-shadow: 0px 1px 2px rgba(60, 64, 67, 0.3), 0px 1px 3px 1px rgba(60, 64, 67, 0.15);\n",
              "      fill: #174EA6;\n",
              "    }\n",
              "\n",
              "    .colab-df-buttons div {\n",
              "      margin-bottom: 4px;\n",
              "    }\n",
              "\n",
              "    [theme=dark] .colab-df-convert {\n",
              "      background-color: #3B4455;\n",
              "      fill: #D2E3FC;\n",
              "    }\n",
              "\n",
              "    [theme=dark] .colab-df-convert:hover {\n",
              "      background-color: #434B5C;\n",
              "      box-shadow: 0px 1px 3px 1px rgba(0, 0, 0, 0.15);\n",
              "      filter: drop-shadow(0px 1px 2px rgba(0, 0, 0, 0.3));\n",
              "      fill: #FFFFFF;\n",
              "    }\n",
              "  </style>\n",
              "\n",
              "    <script>\n",
              "      const buttonEl =\n",
              "        document.querySelector('#df-fe2188e0-4768-4333-9862-6b19f8cb046d button.colab-df-convert');\n",
              "      buttonEl.style.display =\n",
              "        google.colab.kernel.accessAllowed ? 'block' : 'none';\n",
              "\n",
              "      async function convertToInteractive(key) {\n",
              "        const element = document.querySelector('#df-fe2188e0-4768-4333-9862-6b19f8cb046d');\n",
              "        const dataTable =\n",
              "          await google.colab.kernel.invokeFunction('convertToInteractive',\n",
              "                                                    [key], {});\n",
              "        if (!dataTable) return;\n",
              "\n",
              "        const docLinkHtml = 'Like what you see? Visit the ' +\n",
              "          '<a target=\"_blank\" href=https://colab.research.google.com/notebooks/data_table.ipynb>data table notebook</a>'\n",
              "          + ' to learn more about interactive tables.';\n",
              "        element.innerHTML = '';\n",
              "        dataTable['output_type'] = 'display_data';\n",
              "        await google.colab.output.renderOutput(dataTable, element);\n",
              "        const docLink = document.createElement('div');\n",
              "        docLink.innerHTML = docLinkHtml;\n",
              "        element.appendChild(docLink);\n",
              "      }\n",
              "    </script>\n",
              "  </div>\n",
              "\n",
              "\n",
              "<div id=\"df-5d619c64-0cdb-4b1b-8593-519c7080ddbb\">\n",
              "  <button class=\"colab-df-quickchart\" onclick=\"quickchart('df-5d619c64-0cdb-4b1b-8593-519c7080ddbb')\"\n",
              "            title=\"Suggest charts\"\n",
              "            style=\"display:none;\">\n",
              "\n",
              "<svg xmlns=\"http://www.w3.org/2000/svg\" height=\"24px\"viewBox=\"0 0 24 24\"\n",
              "     width=\"24px\">\n",
              "    <g>\n",
              "        <path d=\"M19 3H5c-1.1 0-2 .9-2 2v14c0 1.1.9 2 2 2h14c1.1 0 2-.9 2-2V5c0-1.1-.9-2-2-2zM9 17H7v-7h2v7zm4 0h-2V7h2v10zm4 0h-2v-4h2v4z\"/>\n",
              "    </g>\n",
              "</svg>\n",
              "  </button>\n",
              "\n",
              "<style>\n",
              "  .colab-df-quickchart {\n",
              "      --bg-color: #E8F0FE;\n",
              "      --fill-color: #1967D2;\n",
              "      --hover-bg-color: #E2EBFA;\n",
              "      --hover-fill-color: #174EA6;\n",
              "      --disabled-fill-color: #AAA;\n",
              "      --disabled-bg-color: #DDD;\n",
              "  }\n",
              "\n",
              "  [theme=dark] .colab-df-quickchart {\n",
              "      --bg-color: #3B4455;\n",
              "      --fill-color: #D2E3FC;\n",
              "      --hover-bg-color: #434B5C;\n",
              "      --hover-fill-color: #FFFFFF;\n",
              "      --disabled-bg-color: #3B4455;\n",
              "      --disabled-fill-color: #666;\n",
              "  }\n",
              "\n",
              "  .colab-df-quickchart {\n",
              "    background-color: var(--bg-color);\n",
              "    border: none;\n",
              "    border-radius: 50%;\n",
              "    cursor: pointer;\n",
              "    display: none;\n",
              "    fill: var(--fill-color);\n",
              "    height: 32px;\n",
              "    padding: 0;\n",
              "    width: 32px;\n",
              "  }\n",
              "\n",
              "  .colab-df-quickchart:hover {\n",
              "    background-color: var(--hover-bg-color);\n",
              "    box-shadow: 0 1px 2px rgba(60, 64, 67, 0.3), 0 1px 3px 1px rgba(60, 64, 67, 0.15);\n",
              "    fill: var(--button-hover-fill-color);\n",
              "  }\n",
              "\n",
              "  .colab-df-quickchart-complete:disabled,\n",
              "  .colab-df-quickchart-complete:disabled:hover {\n",
              "    background-color: var(--disabled-bg-color);\n",
              "    fill: var(--disabled-fill-color);\n",
              "    box-shadow: none;\n",
              "  }\n",
              "\n",
              "  .colab-df-spinner {\n",
              "    border: 2px solid var(--fill-color);\n",
              "    border-color: transparent;\n",
              "    border-bottom-color: var(--fill-color);\n",
              "    animation:\n",
              "      spin 1s steps(1) infinite;\n",
              "  }\n",
              "\n",
              "  @keyframes spin {\n",
              "    0% {\n",
              "      border-color: transparent;\n",
              "      border-bottom-color: var(--fill-color);\n",
              "      border-left-color: var(--fill-color);\n",
              "    }\n",
              "    20% {\n",
              "      border-color: transparent;\n",
              "      border-left-color: var(--fill-color);\n",
              "      border-top-color: var(--fill-color);\n",
              "    }\n",
              "    30% {\n",
              "      border-color: transparent;\n",
              "      border-left-color: var(--fill-color);\n",
              "      border-top-color: var(--fill-color);\n",
              "      border-right-color: var(--fill-color);\n",
              "    }\n",
              "    40% {\n",
              "      border-color: transparent;\n",
              "      border-right-color: var(--fill-color);\n",
              "      border-top-color: var(--fill-color);\n",
              "    }\n",
              "    60% {\n",
              "      border-color: transparent;\n",
              "      border-right-color: var(--fill-color);\n",
              "    }\n",
              "    80% {\n",
              "      border-color: transparent;\n",
              "      border-right-color: var(--fill-color);\n",
              "      border-bottom-color: var(--fill-color);\n",
              "    }\n",
              "    90% {\n",
              "      border-color: transparent;\n",
              "      border-bottom-color: var(--fill-color);\n",
              "    }\n",
              "  }\n",
              "</style>\n",
              "\n",
              "  <script>\n",
              "    async function quickchart(key) {\n",
              "      const quickchartButtonEl =\n",
              "        document.querySelector('#' + key + ' button');\n",
              "      quickchartButtonEl.disabled = true;  // To prevent multiple clicks.\n",
              "      quickchartButtonEl.classList.add('colab-df-spinner');\n",
              "      try {\n",
              "        const charts = await google.colab.kernel.invokeFunction(\n",
              "            'suggestCharts', [key], {});\n",
              "      } catch (error) {\n",
              "        console.error('Error during call to suggestCharts:', error);\n",
              "      }\n",
              "      quickchartButtonEl.classList.remove('colab-df-spinner');\n",
              "      quickchartButtonEl.classList.add('colab-df-quickchart-complete');\n",
              "    }\n",
              "    (() => {\n",
              "      let quickchartButtonEl =\n",
              "        document.querySelector('#df-5d619c64-0cdb-4b1b-8593-519c7080ddbb button');\n",
              "      quickchartButtonEl.style.display =\n",
              "        google.colab.kernel.accessAllowed ? 'block' : 'none';\n",
              "    })();\n",
              "  </script>\n",
              "</div>\n",
              "    </div>\n",
              "  </div>\n"
            ]
          },
          "metadata": {},
          "execution_count": 44
        }
      ]
    },
    {
      "cell_type": "code",
      "source": [
        "x = df.drop(\"target\", axis=1).values\n",
        "y = df['target'].values\n",
        "\n",
        "\n",
        "x_tr, x_ts, y_tr, y_ts = train_test_split(x, y, test_size=.2, random_state=seed)\n",
        "x_tr = torch.tensor(x_tr, dtype=torch.float)\n",
        "x_ts = torch.tensor(x_ts, dtype=torch.float)\n",
        "\n",
        "y_tr = torch.tensor(y_tr, dtype=torch.long)\n",
        "y_ts = torch.tensor(y_ts, dtype=torch.long)"
      ],
      "metadata": {
        "id": "V1I9yhQtpm62"
      },
      "execution_count": 62,
      "outputs": []
    },
    {
      "cell_type": "markdown",
      "source": [
        "## Model definition"
      ],
      "metadata": {
        "id": "rq4paQ0qnStV"
      }
    },
    {
      "cell_type": "code",
      "source": [
        "class Model(nn.Module):\n",
        "\n",
        "  def __init__(self, in_features=4, h1=8, h2=9, out_features=3):\n",
        "    #How many layers?\n",
        "    #Input -> Hidden -> Hidden -> Output\n",
        "    #Input (4 features)\n",
        "    #Output (3 Classes)\n",
        "    #Hidden (Arbitrary)\n",
        "\n",
        "    super().__init__()\n",
        "    self.fc1 = nn.Linear(in_features, h1)\n",
        "    self.fc2 = nn.Linear(h1, h2)\n",
        "    self.out = nn.Linear(h2, out_features)\n",
        "\n",
        "  def forward(self, x):\n",
        "\n",
        "    x = F.relu(self.fc1(x))\n",
        "    x = F.relu(self.fc2(x))\n",
        "    return self.out(x)\n",
        "\n",
        "model = Model()"
      ],
      "metadata": {
        "id": "IMmLZuKqnUK1"
      },
      "execution_count": 48,
      "outputs": []
    },
    {
      "cell_type": "code",
      "source": [
        "criterion = nn.CrossEntropyLoss() #Cross entropy because is a multiclass classification model\n",
        "optimizer = torch.optim.Adam(model.parameters(), lr=lr)"
      ],
      "metadata": {
        "id": "eQdjq9_Os9Nb"
      },
      "execution_count": 52,
      "outputs": []
    },
    {
      "cell_type": "code",
      "source": [
        "model.parameters"
      ],
      "metadata": {
        "colab": {
          "base_uri": "https://localhost:8080/"
        },
        "id": "MZy5bLFJtXtd",
        "outputId": "d72cf460-4cf7-42d5-e158-ddf4595ed97c"
      },
      "execution_count": 50,
      "outputs": [
        {
          "output_type": "execute_result",
          "data": {
            "text/plain": [
              "<bound method Module.parameters of Model(\n",
              "  (fc1): Linear(in_features=4, out_features=8, bias=True)\n",
              "  (fc2): Linear(in_features=8, out_features=9, bias=True)\n",
              "  (out): Linear(in_features=9, out_features=3, bias=True)\n",
              ")>"
            ]
          },
          "metadata": {},
          "execution_count": 50
        }
      ]
    },
    {
      "cell_type": "markdown",
      "source": [
        "## Main Loop"
      ],
      "metadata": {
        "id": "LOgYTTFZtqQ_"
      }
    },
    {
      "cell_type": "code",
      "source": [
        "losses = []\n",
        "\n",
        "for i in range(epochs):\n",
        "\n",
        "  y_pred = model.forward(x_tr)\n",
        "  loss = criterion(y_pred, y_tr)\n",
        "  losses.append(loss)\n",
        "\n",
        "  if i%2 == 0:\n",
        "    print(f\"Epoch {i} loss: {loss}\")\n",
        "\n",
        "  optimizer.zero_grad()\n",
        "  loss.backward()\n",
        "  optimizer.step()"
      ],
      "metadata": {
        "colab": {
          "base_uri": "https://localhost:8080/"
        },
        "id": "h6nF4yPYtc4g",
        "outputId": "dd34e2d9-5a54-458a-c3f1-7b01bce61283"
      },
      "execution_count": 63,
      "outputs": [
        {
          "output_type": "stream",
          "name": "stdout",
          "text": [
            "Epoch 0 loss: 1.169895887374878\n",
            "Epoch 2 loss: 1.096889853477478\n",
            "Epoch 4 loss: 1.045396327972412\n",
            "Epoch 6 loss: 1.011089563369751\n",
            "Epoch 8 loss: 0.9858382940292358\n",
            "Epoch 10 loss: 0.9578844308853149\n",
            "Epoch 12 loss: 0.9249759912490845\n",
            "Epoch 14 loss: 0.8871042728424072\n",
            "Epoch 16 loss: 0.852028489112854\n",
            "Epoch 18 loss: 0.8249484896659851\n",
            "Epoch 20 loss: 0.7988812923431396\n",
            "Epoch 22 loss: 0.7727233171463013\n",
            "Epoch 24 loss: 0.7430957555770874\n",
            "Epoch 26 loss: 0.7103517651557922\n",
            "Epoch 28 loss: 0.6783477067947388\n",
            "Epoch 30 loss: 0.634953498840332\n",
            "Epoch 32 loss: 0.5954111218452454\n",
            "Epoch 34 loss: 0.5584934949874878\n",
            "Epoch 36 loss: 0.516156792640686\n",
            "Epoch 38 loss: 0.47555819153785706\n",
            "Epoch 40 loss: 0.44043001532554626\n",
            "Epoch 42 loss: 0.40642049908638\n",
            "Epoch 44 loss: 0.3788546025753021\n",
            "Epoch 46 loss: 0.34799909591674805\n",
            "Epoch 48 loss: 0.32050827145576477\n",
            "Epoch 50 loss: 0.291716992855072\n",
            "Epoch 52 loss: 0.26614969968795776\n",
            "Epoch 54 loss: 0.24144983291625977\n",
            "Epoch 56 loss: 0.21769283711910248\n",
            "Epoch 58 loss: 0.1971118301153183\n",
            "Epoch 60 loss: 0.17829042673110962\n",
            "Epoch 62 loss: 0.16133102774620056\n",
            "Epoch 64 loss: 0.14704100787639618\n",
            "Epoch 66 loss: 0.13506054878234863\n",
            "Epoch 68 loss: 0.12473271787166595\n",
            "Epoch 70 loss: 0.11587586998939514\n",
            "Epoch 72 loss: 0.10849850624799728\n",
            "Epoch 74 loss: 0.10241493582725525\n",
            "Epoch 76 loss: 0.09732922166585922\n",
            "Epoch 78 loss: 0.09299015253782272\n",
            "Epoch 80 loss: 0.08928147703409195\n",
            "Epoch 82 loss: 0.08613317459821701\n",
            "Epoch 84 loss: 0.08346804976463318\n",
            "Epoch 86 loss: 0.08118373900651932\n",
            "Epoch 88 loss: 0.07919097691774368\n",
            "Epoch 90 loss: 0.07743765413761139\n",
            "Epoch 92 loss: 0.07588831335306168\n",
            "Epoch 94 loss: 0.07452020049095154\n",
            "Epoch 96 loss: 0.07330665737390518\n",
            "Epoch 98 loss: 0.07222071290016174\n"
          ]
        }
      ]
    },
    {
      "cell_type": "code",
      "source": [
        "plt.plot(range(epochs), [loss.detach().numpy() for loss in losses])\n",
        "plt.ylabel(\"LOSS (ERROR)\")\n",
        "plt.xlabel(\"Epoch\")"
      ],
      "metadata": {
        "colab": {
          "base_uri": "https://localhost:8080/",
          "height": 466
        },
        "id": "xYfcSHDptuyg",
        "outputId": "ac04726e-5fad-450a-a9b8-adc7fca9090c"
      },
      "execution_count": 65,
      "outputs": [
        {
          "output_type": "execute_result",
          "data": {
            "text/plain": [
              "Text(0.5, 0, 'Epoch')"
            ]
          },
          "metadata": {},
          "execution_count": 65
        },
        {
          "output_type": "display_data",
          "data": {
            "text/plain": [
              "<Figure size 640x480 with 1 Axes>"
            ],
            "image/png": "[encoded data removed]"
          },
          "metadata": {}
        }
      ]
    },
    {
      "cell_type": "markdown",
      "source": [
        "# Model Evaluation\n"
      ],
      "metadata": {
        "id": "GL1zuWNfwEh6"
      }
    },
    {
      "cell_type": "code",
      "source": [
        "#This tells pytorch to don't apply backpropagation, so this will reduce computational cost and will speed up the result of pytorch\n",
        "with torch.no_grad():\n",
        "\n",
        "  y_eval = model.forward(x_ts)\n",
        "  loss = criterion(y_eval, y_ts)\n",
        "\n",
        "\n",
        "#If this value is very different than the loss obtained when training the model this is an indicative of an overfitting\n",
        "print(loss)"
      ],
      "metadata": {
        "colab": {
          "base_uri": "https://localhost:8080/"
        },
        "id": "o6dlzJwrwHLS",
        "outputId": "7b3d1bcf-c5d9-4310-9260-f320ba86951a"
      },
      "execution_count": 68,
      "outputs": [
        {
          "output_type": "stream",
          "name": "stdout",
          "text": [
            "tensor(0.0539)\n"
          ]
        }
      ]
    },
    {
      "cell_type": "code",
      "source": [
        "correct = 0\n",
        "with torch.no_grad():\n",
        "\n",
        "  for idx, data in enumerate(x_ts):\n",
        "\n",
        "    y_val = model.forward(data)\n",
        "    predicted_class = y_val.argmax().item()\n",
        "\n",
        "    if predicted_class == y_ts[idx]:\n",
        "      correct += 1\n",
        "\n",
        "\n",
        "    print(f\"Item {idx} classified! Obtained {predicted_class}, Expected {y_ts[idx]}\")\n",
        "\n",
        "print(f\"Correct: {correct}/{len(x_ts)}\")"
      ],
      "metadata": {
        "colab": {
          "base_uri": "https://localhost:8080/"
        },
        "id": "0ZM0MAJbw2Wd",
        "outputId": "7005d1b8-6657-458f-cc5d-793b6f1b7395"
      },
      "execution_count": 70,
      "outputs": [
        {
          "output_type": "stream",
          "name": "stdout",
          "text": [
            "Item 0 classified! Obtained 1, Expected 1\n",
            "Item 1 classified! Obtained 0, Expected 0\n",
            "Item 2 classified! Obtained 0, Expected 0\n",
            "Item 3 classified! Obtained 1, Expected 1\n",
            "Item 4 classified! Obtained 2, Expected 2\n",
            "Item 5 classified! Obtained 2, Expected 2\n",
            "Item 6 classified! Obtained 0, Expected 0\n",
            "Item 7 classified! Obtained 0, Expected 0\n",
            "Item 8 classified! Obtained 1, Expected 1\n",
            "Item 9 classified! Obtained 0, Expected 0\n",
            "Item 10 classified! Obtained 1, Expected 1\n",
            "Item 11 classified! Obtained 2, Expected 2\n",
            "Item 12 classified! Obtained 1, Expected 1\n",
            "Item 13 classified! Obtained 1, Expected 1\n",
            "Item 14 classified! Obtained 2, Expected 2\n",
            "Item 15 classified! Obtained 2, Expected 2\n",
            "Item 16 classified! Obtained 1, Expected 1\n",
            "Item 17 classified! Obtained 2, Expected 2\n",
            "Item 18 classified! Obtained 1, Expected 1\n",
            "Item 19 classified! Obtained 0, Expected 0\n",
            "Item 20 classified! Obtained 0, Expected 0\n",
            "Item 21 classified! Obtained 2, Expected 2\n",
            "Item 22 classified! Obtained 2, Expected 2\n",
            "Item 23 classified! Obtained 0, Expected 0\n",
            "Item 24 classified! Obtained 0, Expected 0\n",
            "Item 25 classified! Obtained 1, Expected 1\n",
            "Item 26 classified! Obtained 0, Expected 0\n",
            "Item 27 classified! Obtained 2, Expected 2\n",
            "Item 28 classified! Obtained 0, Expected 0\n",
            "Item 29 classified! Obtained 0, Expected 0\n",
            "Correct: 30/30\n"
          ]
        }
      ]
    },
    {
      "cell_type": "markdown",
      "source": [
        "## Save and load model"
      ],
      "metadata": {
        "id": "y8ct3pZGyMtk"
      }
    },
    {
      "cell_type": "code",
      "source": [
        "torch.save(model.state_dict(), 'iris_model.pt')"
      ],
      "metadata": {
        "id": "Yce4cw91yBom"
      },
      "execution_count": 75,
      "outputs": []
    },
    {
      "cell_type": "code",
      "source": [
        "new_model = Model()\n",
        "new_model.load_state_dict(torch.load('iris_model.pt'))\n",
        "\n",
        "new_model.eval()"
      ],
      "metadata": {
        "colab": {
          "base_uri": "https://localhost:8080/"
        },
        "id": "mDBWfHYlySxs",
        "outputId": "eeb40196-e3fa-44d0-ff41-fdd363d33e30"
      },
      "execution_count": 74,
      "outputs": [
        {
          "output_type": "execute_result",
          "data": {
            "text/plain": [
              "Model(\n",
              "  (fc1): Linear(in_features=4, out_features=8, bias=True)\n",
              "  (fc2): Linear(in_features=8, out_features=9, bias=True)\n",
              "  (out): Linear(in_features=9, out_features=3, bias=True)\n",
              ")"
            ]
          },
          "metadata": {},
          "execution_count": 74
        }
      ]
    }
  ]
}