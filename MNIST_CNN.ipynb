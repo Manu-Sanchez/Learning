{
  "nbformat": 4,
  "nbformat_minor": 0,
  "metadata": {
    "colab": {
      "provenance": [],
      "authorship_tag": "ABX9TyNrsBDFOD3boAWxnuWGr2Xp",
      "include_colab_link": true
    },
    "kernelspec": {
      "name": "python3",
      "display_name": "Python 3"
    },
    "language_info": {
      "name": "python"
    }
  },
  "cells": [
    {
      "cell_type": "markdown",
      "metadata": {
        "id": "view-in-github",
        "colab_type": "text"
      },
      "source": [
        "<a href=\"https://colab.research.google.com/github/Manu-Sanchez/Learning/blob/ai%2Fbasic-gan/MNIST_CNN.ipynb\" target=\"_parent\"><img src=\"https://colab.research.google.com/assets/colab-badge.svg\" alt=\"Open In Colab\"/></a>"
      ]
    },
    {
      "cell_type": "code",
      "execution_count": 2,
      "metadata": {
        "id": "atwOD0kdcbOH"
      },
      "outputs": [],
      "source": [
        "import torch\n",
        "import torch.nn as nn\n",
        "import torch.nn.functional as func\n",
        "from torch.utils.data import DataLoader\n",
        "from torchvision import datasets, transforms\n",
        "from torchvision.utils import make_grid\n",
        "\n",
        "import numpy as np\n",
        "import pandas as pd\n",
        "import matplotlib.pyplot as plt\n",
        "\n",
        "%matplotlib inline"
      ]
    },
    {
      "cell_type": "markdown",
      "source": [
        "##MNIST Data Import"
      ],
      "metadata": {
        "id": "DYn6GBPEcz-7"
      }
    },
    {
      "cell_type": "code",
      "source": [
        "MNIST_train_data = datasets.MNIST(\"../data\", train=True, download=True, transform=transforms.ToTensor())\n",
        "MNIST_test_data = datasets.MNIST(\"../data\", train=False, download=True, transform=transforms.ToTensor())"
      ],
      "metadata": {
        "colab": {
          "base_uri": "https://localhost:8080/"
        },
        "id": "qP7pqx3DcyeT",
        "outputId": "4bdedd08-7598-45ab-8a4d-a6198ec26c39"
      },
      "execution_count": 3,
      "outputs": [
        {
          "output_type": "stream",
          "name": "stdout",
          "text": [
            "Downloading http://yann.lecun.com/exdb/mnist/train-images-idx3-ubyte.gz\n",
            "Downloading http://yann.lecun.com/exdb/mnist/train-images-idx3-ubyte.gz to ../data/MNIST/raw/train-images-idx3-ubyte.gz\n"
          ]
        },
        {
          "output_type": "stream",
          "name": "stderr",
          "text": [
            "100%|██████████| 9912422/9912422 [00:00<00:00, 113516060.56it/s]\n"
          ]
        },
        {
          "output_type": "stream",
          "name": "stdout",
          "text": [
            "Extracting ../data/MNIST/raw/train-images-idx3-ubyte.gz to ../data/MNIST/raw\n",
            "\n",
            "Downloading http://yann.lecun.com/exdb/mnist/train-labels-idx1-ubyte.gz\n",
            "Downloading http://yann.lecun.com/exdb/mnist/train-labels-idx1-ubyte.gz to ../data/MNIST/raw/train-labels-idx1-ubyte.gz\n"
          ]
        },
        {
          "output_type": "stream",
          "name": "stderr",
          "text": [
            "100%|██████████| 28881/28881 [00:00<00:00, 33015997.23it/s]\n"
          ]
        },
        {
          "output_type": "stream",
          "name": "stdout",
          "text": [
            "Extracting ../data/MNIST/raw/train-labels-idx1-ubyte.gz to ../data/MNIST/raw\n",
            "\n",
            "Downloading http://yann.lecun.com/exdb/mnist/t10k-images-idx3-ubyte.gz\n",
            "Downloading http://yann.lecun.com/exdb/mnist/t10k-images-idx3-ubyte.gz to ../data/MNIST/raw/t10k-images-idx3-ubyte.gz\n"
          ]
        },
        {
          "output_type": "stream",
          "name": "stderr",
          "text": [
            "100%|██████████| 1648877/1648877 [00:00<00:00, 31533768.00it/s]\n"
          ]
        },
        {
          "output_type": "stream",
          "name": "stdout",
          "text": [
            "Extracting ../data/MNIST/raw/t10k-images-idx3-ubyte.gz to ../data/MNIST/raw\n",
            "\n",
            "Downloading http://yann.lecun.com/exdb/mnist/t10k-labels-idx1-ubyte.gz\n",
            "Downloading http://yann.lecun.com/exdb/mnist/t10k-labels-idx1-ubyte.gz to ../data/MNIST/raw/t10k-labels-idx1-ubyte.gz\n"
          ]
        },
        {
          "output_type": "stream",
          "name": "stderr",
          "text": [
            "100%|██████████| 4542/4542 [00:00<00:00, 14206210.86it/s]\n"
          ]
        },
        {
          "output_type": "stream",
          "name": "stdout",
          "text": [
            "Extracting ../data/MNIST/raw/t10k-labels-idx1-ubyte.gz to ../data/MNIST/raw\n",
            "\n"
          ]
        }
      ]
    },
    {
      "cell_type": "code",
      "source": [
        "print(\n",
        "    f\"Type of the items: {type(MNIST_train_data[0]).__name__}\\n\" + \\\n",
        "    f\"Number elements per item: {len(MNIST_train_data[0])}\\n\" + \\\n",
        "    f\"Type of the first item: {type(MNIST_train_data[0][0]).__name__}\\n\" + \\\n",
        "    f\"Type of the second item: {type(MNIST_train_data[0][1]).__name__}\"\n",
        ")"
      ],
      "metadata": {
        "colab": {
          "base_uri": "https://localhost:8080/"
        },
        "id": "ei1st1jPdTOy",
        "outputId": "fb22273b-91f6-46bc-bf9f-4b76e95c9c08"
      },
      "execution_count": 10,
      "outputs": [
        {
          "output_type": "stream",
          "name": "stdout",
          "text": [
            "Type of the items: tuple\n",
            "Number elements per item: 2\n",
            "Type of the first item: Tensor\n",
            "Type of the second item: int\n"
          ]
        }
      ]
    },
    {
      "cell_type": "code",
      "source": [
        "img, label = MNIST_train_data[0]\n",
        "print(f\"Image label: {label}\")\n",
        "plt.imshow(img.permute(1,2,0), cmap=\"gist_yarg\")\n",
        "plt.show()"
      ],
      "metadata": {
        "colab": {
          "base_uri": "https://localhost:8080/",
          "height": 447
        },
        "id": "hyuhc1Dhd-al",
        "outputId": "6089d27e-c010-4685-d47e-1183a403bf50"
      },
      "execution_count": 23,
      "outputs": [
        {
          "output_type": "stream",
          "name": "stdout",
          "text": [
            "Image label: 5\n"
          ]
        },
        {
          "output_type": "display_data",
          "data": {
            "text/plain": [
              "<Figure size 640x480 with 1 Axes>"
            ],
            "image/png": "[encoded data removed]"
          },
          "metadata": {}
        }
      ]
    },
    {
      "cell_type": "code",
      "source": [
        "train_loader = DataLoader(MNIST_train_data, batch_size=10, shuffle=True)\n",
        "test_loader = DataLoader(MNIST_test_data, batch_size=10, shuffle=False)"
      ],
      "metadata": {
        "id": "hkB4OlqAefrw"
      },
      "execution_count": 25,
      "outputs": []
    },
    {
      "cell_type": "code",
      "source": [
        "class ConvolutionalNetwork(nn.Module):\n",
        "\n",
        "  def __init__(self):\n",
        "    super().__init__()\n",
        "\n",
        "    self.conv1 = nn.Conv2d(1, 6, 3, 1)\n",
        "    self.conv2 = nn.Conv2d(6, 16, 3, 1)\n",
        "    self.fc1 = nn.Linear(16 * 5 * 5, 120)\n",
        "    self.fc2 = nn.Linear(120, 84)\n",
        "    self.fc3 = nn.Linear(84, 10)\n",
        "\n",
        "\n",
        "  def forward(self, x):\n",
        "\n",
        "    x = func.relu(self.conv1(x))\n",
        "    x = func.max_pool2d(x, 2, 2)\n",
        "    x = func.relu(self.conv2(x))\n",
        "    x = func.max_pool2d(x, 2, 2)\n",
        "    x = x.reshape(-1, 16*5*5)\n",
        "    x = func.relu(self.fc1(x))\n",
        "    x = func.relu(self.fc2(x))\n",
        "    x = self.fc3(x)\n",
        "\n",
        "    return func.log_softmax(x, dim=1)\n",
        "\n",
        "model = ConvolutionalNetwork()\n",
        "model"
      ],
      "metadata": {
        "colab": {
          "base_uri": "https://localhost:8080/"
        },
        "id": "CgtEqp25mros",
        "outputId": "b32badca-e8a7-402d-fc97-2f6d19c8d9fe"
      },
      "execution_count": 40,
      "outputs": [
        {
          "output_type": "execute_result",
          "data": {
            "text/plain": [
              "ConvolutionalNetwork(\n",
              "  (conv1): Conv2d(1, 6, kernel_size=(3, 3), stride=(1, 1))\n",
              "  (conv2): Conv2d(6, 16, kernel_size=(3, 3), stride=(1, 1))\n",
              "  (fc1): Linear(in_features=400, out_features=120, bias=True)\n",
              "  (fc2): Linear(in_features=120, out_features=84, bias=True)\n",
              "  (fc3): Linear(in_features=84, out_features=10, bias=True)\n",
              ")"
            ]
          },
          "metadata": {},
          "execution_count": 40
        }
      ]
    },
    {
      "cell_type": "code",
      "source": [
        "criterion = nn.CrossEntropyLoss()\n",
        "optim = torch.optim.Adam(model.parameters(), lr=1e-3)"
      ],
      "metadata": {
        "id": "CHVxxLCOqRhZ"
      },
      "execution_count": 41,
      "outputs": []
    },
    {
      "cell_type": "code",
      "source": [
        "for epoch in range(2):\n",
        "  for batch_idx, (x_tr, y_tr) in enumerate(train_loader):\n",
        "    y_pred = model(x_tr)\n",
        "    loss = criterion(y_pred, y_tr)\n",
        "\n",
        "    optim.zero_grad()\n",
        "    loss.backward()\n",
        "    optim.step()\n",
        "\n",
        "    if batch_idx%200 == 0:\n",
        "      print(f\"Epoch: {epoch} Batch: {batch_idx} Loss: {loss}\")\n"
      ],
      "metadata": {
        "colab": {
          "base_uri": "https://localhost:8080/"
        },
        "id": "7F6AUglRqjgw",
        "outputId": "20fc8b3b-e7c3-4eea-8d2d-4167f52662d7"
      },
      "execution_count": 42,
      "outputs": [
        {
          "output_type": "stream",
          "name": "stdout",
          "text": [
            "Epoch: 0 Batch: 0 Loss: 2.3389840126037598\n",
            "Epoch: 0 Batch: 200 Loss: 0.7607985138893127\n",
            "Epoch: 0 Batch: 400 Loss: 0.830868124961853\n",
            "Epoch: 0 Batch: 600 Loss: 0.27391937375068665\n",
            "Epoch: 0 Batch: 800 Loss: 0.2225637137889862\n",
            "Epoch: 0 Batch: 1000 Loss: 0.15667544305324554\n",
            "Epoch: 0 Batch: 1200 Loss: 0.01652400568127632\n",
            "Epoch: 0 Batch: 1400 Loss: 0.07183830440044403\n",
            "Epoch: 0 Batch: 1600 Loss: 0.030810732394456863\n",
            "Epoch: 0 Batch: 1800 Loss: 0.0126910749822855\n",
            "Epoch: 0 Batch: 2000 Loss: 0.012544956989586353\n",
            "Epoch: 0 Batch: 2200 Loss: 0.02724350057542324\n",
            "Epoch: 0 Batch: 2400 Loss: 0.004837325308471918\n",
            "Epoch: 0 Batch: 2600 Loss: 0.017813023179769516\n",
            "Epoch: 0 Batch: 2800 Loss: 0.008123624138534069\n",
            "Epoch: 0 Batch: 3000 Loss: 0.014751476235687733\n",
            "Epoch: 0 Batch: 3200 Loss: 0.21633191406726837\n",
            "Epoch: 0 Batch: 3400 Loss: 0.02235710620880127\n",
            "Epoch: 0 Batch: 3600 Loss: 0.23684179782867432\n",
            "Epoch: 0 Batch: 3800 Loss: 0.004963327664881945\n",
            "Epoch: 0 Batch: 4000 Loss: 0.10501327365636826\n",
            "Epoch: 0 Batch: 4200 Loss: 0.011973196640610695\n",
            "Epoch: 0 Batch: 4400 Loss: 0.02797050215303898\n",
            "Epoch: 0 Batch: 4600 Loss: 0.0032345782965421677\n",
            "Epoch: 0 Batch: 4800 Loss: 0.0753076896071434\n",
            "Epoch: 0 Batch: 5000 Loss: 0.015510722994804382\n",
            "Epoch: 0 Batch: 5200 Loss: 0.0048031676560640335\n",
            "Epoch: 0 Batch: 5400 Loss: 0.21672682464122772\n",
            "Epoch: 0 Batch: 5600 Loss: 0.013774466700851917\n",
            "Epoch: 0 Batch: 5800 Loss: 0.013044518418610096\n",
            "Epoch: 1 Batch: 0 Loss: 0.010447857901453972\n",
            "Epoch: 1 Batch: 200 Loss: 0.015808550640940666\n",
            "Epoch: 1 Batch: 400 Loss: 0.0020998904947191477\n",
            "Epoch: 1 Batch: 600 Loss: 0.006672656629234552\n",
            "Epoch: 1 Batch: 800 Loss: 0.036638110876083374\n",
            "Epoch: 1 Batch: 1000 Loss: 0.003941814880818129\n",
            "Epoch: 1 Batch: 1200 Loss: 0.027056332677602768\n",
            "Epoch: 1 Batch: 1400 Loss: 0.07209451496601105\n",
            "Epoch: 1 Batch: 1600 Loss: 0.03701624646782875\n",
            "Epoch: 1 Batch: 1800 Loss: 0.7625732421875\n",
            "Epoch: 1 Batch: 2000 Loss: 0.0017665043706074357\n",
            "Epoch: 1 Batch: 2200 Loss: 0.04218704253435135\n",
            "Epoch: 1 Batch: 2400 Loss: 0.0024590580724179745\n",
            "Epoch: 1 Batch: 2600 Loss: 0.010891362093389034\n",
            "Epoch: 1 Batch: 2800 Loss: 0.014075765386223793\n",
            "Epoch: 1 Batch: 3000 Loss: 0.0006940312450751662\n",
            "Epoch: 1 Batch: 3200 Loss: 0.010144086554646492\n",
            "Epoch: 1 Batch: 3400 Loss: 0.000643349252641201\n",
            "Epoch: 1 Batch: 3600 Loss: 0.0017267204821109772\n",
            "Epoch: 1 Batch: 3800 Loss: 0.014720579609274864\n",
            "Epoch: 1 Batch: 4000 Loss: 0.21539819240570068\n",
            "Epoch: 1 Batch: 4200 Loss: 0.22798502445220947\n",
            "Epoch: 1 Batch: 4400 Loss: 0.006934747099876404\n",
            "Epoch: 1 Batch: 4600 Loss: 0.012838559225201607\n",
            "Epoch: 1 Batch: 4800 Loss: 0.057302892208099365\n",
            "Epoch: 1 Batch: 5000 Loss: 0.0006821040296927094\n",
            "Epoch: 1 Batch: 5200 Loss: 0.0008510597981512547\n",
            "Epoch: 1 Batch: 5400 Loss: 0.26974114775657654\n",
            "Epoch: 1 Batch: 5600 Loss: 0.006895095109939575\n",
            "Epoch: 1 Batch: 5800 Loss: 0.0007973980391398072\n"
          ]
        }
      ]
    },
    {
      "cell_type": "code",
      "source": [],
      "metadata": {
        "id": "5N-ZU4TMqlZv"
      },
      "execution_count": null,
      "outputs": []
    }
  ]
}