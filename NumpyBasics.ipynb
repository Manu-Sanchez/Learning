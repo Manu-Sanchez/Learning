{
  "nbformat": 4,
  "nbformat_minor": 0,
  "metadata": {
    "colab": {
      "provenance": [],
      "authorship_tag": "ABX9TyON01FDLT/UtbYvJOGquGNm",
      "include_colab_link": true
    },
    "kernelspec": {
      "name": "python3",
      "display_name": "Python 3"
    },
    "language_info": {
      "name": "python"
    }
  },
  "cells": [
    {
      "cell_type": "markdown",
      "metadata": {
        "id": "view-in-github",
        "colab_type": "text"
      },
      "source": [
        "<a href=\"https://colab.research.google.com/github/Manu-Sanchez/Learning/blob/ai%2Fbasic-gan/NumpyBasics.ipynb\" target=\"_parent\"><img src=\"https://colab.research.google.com/assets/colab-badge.svg\" alt=\"Open In Colab\"/></a>"
      ]
    },
    {
      "cell_type": "code",
      "execution_count": 1,
      "metadata": {
        "id": "IEIQ7H-hMdch"
      },
      "outputs": [],
      "source": [
        "  import numpy as np\n"
      ]
    },
    {
      "cell_type": "code",
      "source": [
        "np.zeros((4,10))"
      ],
      "metadata": {
        "colab": {
          "base_uri": "https://localhost:8080/"
        },
        "id": "SnjlxN2POMlj",
        "outputId": "e91ddfe3-a83f-474b-9768-557ee19a5759"
      },
      "execution_count": null,
      "outputs": [
        {
          "output_type": "execute_result",
          "data": {
            "text/plain": [
              "array([[0., 0., 0., 0., 0., 0., 0., 0., 0., 0.],\n",
              "       [0., 0., 0., 0., 0., 0., 0., 0., 0., 0.],\n",
              "       [0., 0., 0., 0., 0., 0., 0., 0., 0., 0.],\n",
              "       [0., 0., 0., 0., 0., 0., 0., 0., 0., 0.]])"
            ]
          },
          "metadata": {},
          "execution_count": 2
        }
      ]
    },
    {
      "cell_type": "code",
      "source": [
        "#Gives 20 numbers between 0 and 10 (linear space)\n",
        "np.linspace(0, 10, 20)\n"
      ],
      "metadata": {
        "colab": {
          "base_uri": "https://localhost:8080/"
        },
        "id": "3f_RKHF1OnlO",
        "outputId": "43d6403b-4717-41f9-aa1c-85c560fd58c4"
      },
      "execution_count": null,
      "outputs": [
        {
          "output_type": "execute_result",
          "data": {
            "text/plain": [
              "array([ 0.        ,  0.52631579,  1.05263158,  1.57894737,  2.10526316,\n",
              "        2.63157895,  3.15789474,  3.68421053,  4.21052632,  4.73684211,\n",
              "        5.26315789,  5.78947368,  6.31578947,  6.84210526,  7.36842105,\n",
              "        7.89473684,  8.42105263,  8.94736842,  9.47368421, 10.        ])"
            ]
          },
          "metadata": {},
          "execution_count": 3
        }
      ]
    },
    {
      "cell_type": "code",
      "source": [
        "np.eye(5)"
      ],
      "metadata": {
        "colab": {
          "base_uri": "https://localhost:8080/"
        },
        "id": "vM9q2erVOx-A",
        "outputId": "bc6a356a-3696-4230-fcd9-179b87ac968b"
      },
      "execution_count": null,
      "outputs": [
        {
          "output_type": "execute_result",
          "data": {
            "text/plain": [
              "array([[1., 0., 0., 0., 0.],\n",
              "       [0., 1., 0., 0., 0.],\n",
              "       [0., 0., 1., 0., 0.],\n",
              "       [0., 0., 0., 1., 0.],\n",
              "       [0., 0., 0., 0., 1.]])"
            ]
          },
          "metadata": {},
          "execution_count": 4
        }
      ]
    },
    {
      "cell_type": "code",
      "source": [
        "np.random.rand(1) #1 number between 0 and 1\n",
        "np.random.rand(4) #4 numbers between 0 and 1\n",
        "\n",
        "np.random.randn(10) #Random distribution mean of 0\n",
        "\n",
        "np.random.randint(1,100,10) #10 random numbers between [1, 100[\n",
        "np.random.seed(42) #Specify random seed\n",
        "\n",
        "np.arange(25) #Get numbers between [0, 25[\n",
        "\n",
        "np.arange(10).reshape(5,2)\n",
        "\n",
        "np.arange(10).min() #Min value\n",
        "np.arange(10).argmin() #Position of the min value\n",
        "\n",
        "np.arange(10).dtype #Datatype"
      ],
      "metadata": {
        "colab": {
          "base_uri": "https://localhost:8080/"
        },
        "id": "dMCnPr7qO1Gn",
        "outputId": "a4a05d1b-51a8-4cea-e251-b227b1db8091"
      },
      "execution_count": null,
      "outputs": [
        {
          "output_type": "execute_result",
          "data": {
            "text/plain": [
              "dtype('int64')"
            ]
          },
          "metadata": {},
          "execution_count": 21
        }
      ]
    },
    {
      "cell_type": "code",
      "source": [
        "arr = np.arange(0,10)\n",
        "\n",
        "print(arr[8])\n",
        "print(arr[2:6])\n",
        "print(arr[:5])\n",
        "print(arr[5:])\n",
        "\n",
        "print(arr + 100) #Add 100 to each item in the array\n",
        "print(arr)"
      ],
      "metadata": {
        "colab": {
          "base_uri": "https://localhost:8080/"
        },
        "id": "w7vjezE1obU1",
        "outputId": "a7545339-c886-4372-f120-53830c4deb8b"
      },
      "execution_count": 7,
      "outputs": [
        {
          "output_type": "stream",
          "name": "stdout",
          "text": [
            "8\n",
            "[2 3 4 5]\n",
            "[0 1 2 3 4]\n",
            "[5 6 7 8 9]\n",
            "[100 101 102 103 104 105 106 107 108 109]\n",
            "[0 1 2 3 4 5 6 7 8 9]\n"
          ]
        }
      ]
    },
    {
      "cell_type": "code",
      "source": [
        "arr = np.arange(0, 11)\n",
        "slice_arr = arr[:6]\n",
        "\n",
        "slice_arr[:] = 99 #It updates also arr as slice_arr is pointing to that one\n",
        "\n",
        "print(slice_arr)\n",
        "print(arr)\n",
        "\n",
        "arr = np.arange(0, 11)\n",
        "slice_arr = arr.copy()[:6]\n",
        "\n",
        "slice_arr[:] = 99 #As this is a copy of the original array, it won't be affected\n",
        "\n",
        "print(slice_arr)\n",
        "print(arr)"
      ],
      "metadata": {
        "colab": {
          "base_uri": "https://localhost:8080/"
        },
        "id": "6ro1lPPIpLVv",
        "outputId": "88473ec5-dcba-4054-e2d4-fbd55555f196"
      },
      "execution_count": 11,
      "outputs": [
        {
          "output_type": "stream",
          "name": "stdout",
          "text": [
            "[99 99 99 99 99 99]\n",
            "[99 99 99 99 99 99  6  7  8  9 10]\n",
            "[99 99 99 99 99 99]\n",
            "[ 0  1  2  3  4  5  6  7  8  9 10]\n"
          ]
        }
      ]
    },
    {
      "cell_type": "code",
      "source": [
        "#TWO DIMENSIONAL ARRAYS\n",
        "\n",
        "arr_2d = np.array([\n",
        "    [10, 20, 30],\n",
        "    [2,1,5],\n",
        "    [20, 10, 20]\n",
        "])\n",
        "\n",
        "print(arr_2d)\n",
        "print(arr_2d.shape)\n",
        "print(arr_2d[2, 2]) #ROW COLUMN\n",
        "\n",
        "slice_arr_2d = arr_2d[:, 2]\n",
        "slice_arr_2d[:] = 99\n",
        "\n",
        "print(slice_arr_2d)\n",
        "print(arr_2d)"
      ],
      "metadata": {
        "colab": {
          "base_uri": "https://localhost:8080/"
        },
        "id": "BNv7Jc5wpuSO",
        "outputId": "f6565899-9322-477d-dcf8-df8913bf31c5"
      },
      "execution_count": 18,
      "outputs": [
        {
          "output_type": "stream",
          "name": "stdout",
          "text": [
            "[[10 20 30]\n",
            " [ 2  1  5]\n",
            " [20 10 20]]\n",
            "(3, 3)\n",
            "20\n",
            "[99 99 99]\n",
            "[[10 20 99]\n",
            " [ 2  1 99]\n",
            " [20 10 99]]\n"
          ]
        }
      ]
    },
    {
      "cell_type": "code",
      "source": [
        "arr = np.arange(0, 11)\n",
        "\n",
        "print(arr > 4) #True, False of each item\n",
        "\n",
        "bool_arr = arr > 4\n",
        "print(arr[bool_arr]) #Only returns true items\n",
        "print(arr[arr > 4])"
      ],
      "metadata": {
        "colab": {
          "base_uri": "https://localhost:8080/"
        },
        "id": "tYzU-DY8qlZs",
        "outputId": "bc3b990f-0cc4-4d08-91e3-651cc8bc0ed8"
      },
      "execution_count": 23,
      "outputs": [
        {
          "output_type": "stream",
          "name": "stdout",
          "text": [
            "[False False False False False  True  True  True  True  True  True]\n",
            "[ 5  6  7  8  9 10]\n",
            "[ 5  6  7  8  9 10]\n"
          ]
        }
      ]
    }
  ]
}