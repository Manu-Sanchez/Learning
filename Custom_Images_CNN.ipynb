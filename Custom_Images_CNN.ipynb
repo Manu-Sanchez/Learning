{
  "nbformat": 4,
  "nbformat_minor": 0,
  "metadata": {
    "colab": {
      "provenance": [],
      "authorship_tag": "ABX9TyNrHaZKGWMShVHL8eafMtWt",
      "include_colab_link": true
    },
    "kernelspec": {
      "name": "python3",
      "display_name": "Python 3"
    },
    "language_info": {
      "name": "python"
    }
  },
  "cells": [
    {
      "cell_type": "markdown",
      "metadata": {
        "id": "view-in-github",
        "colab_type": "text"
      },
      "source": [
        "<a href=\"https://colab.research.google.com/github/Manu-Sanchez/Learning/blob/ai%2Fbasic-gan/Custom_Images_CNN.ipynb\" target=\"_parent\"><img src=\"https://colab.research.google.com/assets/colab-badge.svg\" alt=\"Open In Colab\"/></a>"
      ]
    },
    {
      "cell_type": "code",
      "execution_count": 1,
      "metadata": {
        "id": "90oSxhCgHHkz"
      },
      "outputs": [],
      "source": [
        "import os\n",
        "import numpy as np\n",
        "import pandas as pd\n",
        "import matplotlib.pyplot as plt\n",
        "\n",
        "import torch\n",
        "import torch.nn as nn\n",
        "import torch.nn.functional as func\n",
        "from torch.utils.data import DataLoader\n",
        "from torchvision import datasets, transforms\n",
        "from torchvision.utils import make_grid\n",
        "\n",
        "%matplotlib inline\n",
        "\n",
        "import warnings\n",
        "warnings.filterwarnings(\"ignore\")"
      ]
    },
    {
      "cell_type": "code",
      "source": [
        "train_transforms = transforms.Compose([\n",
        "    transforms.RandomRotation(10),\n",
        "    transforms.RandomHorizontalFlip(),\n",
        "    transforms.Resize(224),\n",
        "    transforms.CenterCrop(224),\n",
        "    transforms.ToTensor(),\n",
        "    transforms.Normalize([0.485, 0.456, 0.406], [0.229, 0.224, 0.225])\n",
        "])\n",
        "\n",
        "test_transforms = transforms.Compose([transforms.Resize(224),\n",
        "    transforms.CenterCrop(224),\n",
        "    transforms.ToTensor(),\n",
        "    transforms.Normalize([0.485, 0.456, 0.406], [0.229, 0.224, 0.225])\n",
        "])"
      ],
      "metadata": {
        "id": "SFjmyA_YHh8r"
      },
      "execution_count": 3,
      "outputs": []
    },
    {
      "cell_type": "code",
      "source": [
        "root = \"../data\"\n",
        "\n",
        "train_data = datasets.ImageFolder(os.path.join(root, 'train'), transforms=train_transforms)\n",
        "test_data = datasets.ImageFolder(os.path.join(root, 'test'), transforms=test_transforms)\n",
        "\n",
        "torch.manual_seed(42)\n",
        "\n",
        "train_loader = DataLoader(train_data, batch_size=10, shuffle=True)\n",
        "test_data = DataLoader(test_data, batch_size=10, shuffle=False)\n",
        "\n",
        "class_names = train_data.classes #Cat, Dog\n",
        "\n",
        "len(train_data)#18743\n",
        "len(test_data)#6251"
      ],
      "metadata": {
        "id": "hhxDCBu6I5GX"
      },
      "execution_count": null,
      "outputs": []
    },
    {
      "cell_type": "code",
      "source": [
        "for img_batch, label_batch in train_loader:\n",
        "  break\n",
        "\n",
        "img_batch.shape#10, 3, 224 224"
      ],
      "metadata": {
        "id": "1DiFVGJm76N3"
      },
      "execution_count": null,
      "outputs": []
    },
    {
      "cell_type": "code",
      "source": [
        "im = make_grid(img_batch, nrows=5)\n",
        "\n",
        "inv_normalize = transforms.Normalice(\n",
        "    mean=[-0.485/0.229, -0.456/0.224, -0.406/0.225],\n",
        "    std=[1/0.229, 1/0.224, 1/0.225]\n",
        ")\n",
        "\n",
        "img_inv = inv_normalize(im)\n",
        "plt.imshow(im_inv.permute(1,2,0))"
      ],
      "metadata": {
        "id": "DtJqMWRI8LWi"
      },
      "execution_count": null,
      "outputs": []
    },
    {
      "cell_type": "code",
      "source": [
        "class ConvolutionalNetwork(nn.Module):\n",
        "  def __init__(self):\n",
        "    super().__init__()\n",
        "    self.conv1 = nn.Conv2d(3,6,3,1)\n",
        "    self.conv2 = nn.Conv2d(6,16,3,1)\n",
        "    self.fc1 = nn.Linear(54*54*16, 120) # ((224 - 2)//2) = ((111 - 2)) // 2 = 54\n",
        "    self.fc2 = nn.Linear(120, 84)\n",
        "    self.fc3 = nn.Linear(84, 2)\n",
        "\n",
        "  def forward(self, x):\n",
        "    x = func.relu(self.conv1(x))\n",
        "    x = func.max_pool2d(x, 2, 2)\n",
        "    x = func.relu(self.conv2(x))\n",
        "    x = func.max_pool2d(x, 2, 2)\n",
        "    x = func.relu(self.fc1(x.reshape(-1, 54*54*16)))\n",
        "    x = func.relu(self.fc2(x))\n",
        "    x = self.fc3(x)\n",
        "\n",
        "    return func.log_softmax(x, dim=1)"
      ],
      "metadata": {
        "id": "wqwRAGCM96cq"
      },
      "execution_count": null,
      "outputs": []
    },
    {
      "cell_type": "code",
      "source": [
        "model = ConvolutionalNetwork()\n",
        "criterion = nn.CrossEntropyLoss()\n",
        "optim = torch.optim.Adam(model.parameters(), lr=1e-3)"
      ],
      "metadata": {
        "id": "JM0F5xHk_-hR"
      },
      "execution_count": null,
      "outputs": []
    },
    {
      "cell_type": "code",
      "source": [
        "model"
      ],
      "metadata": {
        "id": "b3MXbrxICJ6X"
      },
      "execution_count": null,
      "outputs": []
    },
    {
      "cell_type": "code",
      "source": [
        "for param in model.parameters():\n",
        "  print(param.numel())"
      ],
      "metadata": {
        "id": "t5ta44MTCKhJ"
      },
      "execution_count": null,
      "outputs": []
    },
    {
      "cell_type": "code",
      "source": [
        "epochs = 3\n",
        "\n",
        "max_trn_batch = 800\n",
        "max_tst_batch = 300\n",
        "\n",
        "train_loss = []\n",
        "test_loss = []\n",
        "\n",
        "train_correct = []\n",
        "test_correct = []\n",
        "\n",
        "for i in range(epochs):\n",
        "  train_hits = 0\n",
        "  test_hits = 0\n",
        "\n",
        "  for b, (x_tr, y_tr) in enumerate(train_loader):\n",
        "    if b == max_trn_batch: break\n",
        "\n",
        "    y_pred = model(x_tr)\n",
        "    loss = criterion(y_pred, y_tr)\n",
        "\n",
        "    optim.zero_grad()\n",
        "    loss.backward()\n",
        "    optim.step()\n",
        "\n",
        "    hits = (torch.max(y_pred, 1)[1] == y_tr).sum()\n",
        "    train_hits += hits\n",
        "\n",
        "    if b%200 == 0:\n",
        "      print(f\"Epoch {i} Batch {b} Loss {loss.item()}\")\n",
        "\n",
        "  train_loss.append(loss)\n",
        "  train_correct.append(hits)\n",
        "\n",
        "  with torch.no_grad():\n",
        "    for b, (x_ts, y_ts) in enumerate(test_loader):\n",
        "      if b == max_tst_batch: break\n",
        "\n",
        "      y_pred = model(x_ts)\n",
        "\n",
        "      hits = (torch.max(y_pred, 1)[1] == y_ts).sum()\n",
        "      test_hits += hits\n",
        "\n",
        "  loss = criterion(y_pred, y_tr)\n",
        "  test_loss.append(loss)\n",
        "  test_correct.append(test_hits)\n"
      ],
      "metadata": {
        "id": "7o3YWSL8MX6s"
      },
      "execution_count": null,
      "outputs": []
    },
    {
      "cell_type": "code",
      "source": [
        "torch.save(model.state_dict(), \"model.pt\")"
      ],
      "metadata": {
        "id": "5hlDjju3ORay"
      },
      "execution_count": null,
      "outputs": []
    }
  ]
}