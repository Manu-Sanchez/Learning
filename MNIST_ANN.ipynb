{
  "nbformat": 4,
  "nbformat_minor": 0,
  "metadata": {
    "colab": {
      "provenance": [],
      "authorship_tag": "ABX9TyOP3YUDYZd1Bc9TpXBLDg2m",
      "include_colab_link": true
    },
    "kernelspec": {
      "name": "python3",
      "display_name": "Python 3"
    },
    "language_info": {
      "name": "python"
    }
  },
  "cells": [
    {
      "cell_type": "markdown",
      "metadata": {
        "id": "view-in-github",
        "colab_type": "text"
      },
      "source": [
        "<a href=\"https://colab.research.google.com/github/Manu-Sanchez/Learning/blob/ai%2Fbasic-gan/MNIST_ANN.ipynb\" target=\"_parent\"><img src=\"https://colab.research.google.com/assets/colab-badge.svg\" alt=\"Open In Colab\"/></a>"
      ]
    },
    {
      "cell_type": "code",
      "execution_count": 85,
      "metadata": {
        "id": "S79HlwD34bf2"
      },
      "outputs": [],
      "source": [
        "import numpy as np\n",
        "import pandas as pd\n",
        "import matplotlib.pyplot as plt\n",
        "\n",
        "import torch\n",
        "import torch.nn as nn\n",
        "import torch.nn.functional as func\n",
        "from torch.utils.data import DataLoader\n",
        "from torchvision import datasets, transforms\n",
        "from torchvision.utils import make_grid\n",
        "\n",
        "%matplotlib inline"
      ]
    },
    {
      "cell_type": "code",
      "source": [
        "epochs = 10\n",
        "train_batch_size = 100\n",
        "test_batch_size = 500\n",
        "sample_size = min(train_batch_size, 9)"
      ],
      "metadata": {
        "id": "KmWlfsgV-W3s"
      },
      "execution_count": 86,
      "outputs": []
    },
    {
      "cell_type": "code",
      "source": [
        "MNIST_train_data = datasets.MNIST(\"../data\", train=True, download=True, transform=transforms.ToTensor())\n",
        "MNIST_test_data = datasets.MNIST(\"../data\", train=False, download=True, transform=transforms.ToTensor())"
      ],
      "metadata": {
        "id": "WDfPSIUA6Ctm"
      },
      "execution_count": 87,
      "outputs": []
    },
    {
      "cell_type": "code",
      "source": [
        "print(\n",
        "    f\"=\"*10 + \" MNIST Train Data \" + \"=\"*10 + f\"\\n {MNIST_train_data}\\n\\n\" + \\\n",
        "    f\"=\"*10 + \" MNIST Test Data \" + \"=\"*10 + f\"\\n {MNIST_test_data}\"\n",
        ")"
      ],
      "metadata": {
        "colab": {
          "base_uri": "https://localhost:8080/"
        },
        "id": "FoT4EfbN6fsc",
        "outputId": "7ececa2d-c107-468f-e7ff-5aaa3a9ed831"
      },
      "execution_count": 88,
      "outputs": [
        {
          "output_type": "stream",
          "name": "stdout",
          "text": [
            "========== MNIST Train Data ==========\n",
            " Dataset MNIST\n",
            "    Number of datapoints: 60000\n",
            "    Root location: ../data\n",
            "    Split: Train\n",
            "    StandardTransform\n",
            "Transform: ToTensor()\n",
            "\n",
            "========== MNIST Test Data ==========\n",
            " Dataset MNIST\n",
            "    Number of datapoints: 10000\n",
            "    Root location: ../data\n",
            "    Split: Test\n",
            "    StandardTransform\n",
            "Transform: ToTensor()\n"
          ]
        }
      ]
    },
    {
      "cell_type": "code",
      "source": [
        "img, label = MNIST_train_data[0]\n",
        "print(f\"Image Label: {label}\")\n",
        "print(f\"Image Shape: {img.shape}\")\n",
        "img = img.reshape(28,28)\n",
        "\n",
        "plt.imshow(img, cmap=\"gist_yarg\")\n",
        "plt.show()"
      ],
      "metadata": {
        "colab": {
          "base_uri": "https://localhost:8080/",
          "height": 465
        },
        "id": "q-Z_cATI8OId",
        "outputId": "918bfdd0-81a7-4d81-d5a3-2c12e84fb6af"
      },
      "execution_count": 89,
      "outputs": [
        {
          "output_type": "stream",
          "name": "stdout",
          "text": [
            "Image Label: 5\n",
            "Image Shape: torch.Size([1, 28, 28])\n"
          ]
        },
        {
          "output_type": "display_data",
          "data": {
            "text/plain": [
              "<Figure size 640x480 with 1 Axes>"
            ],
            "image/png": "[encoded data removed]"
          },
          "metadata": {}
        }
      ]
    },
    {
      "cell_type": "code",
      "source": [
        "MNIST_train_data = DataLoader(MNIST_train_data, batch_size=train_batch_size, shuffle=True)\n",
        "MNIST_test_data = DataLoader(MNIST_test_data, batch_size=test_batch_size, shuffle=True)"
      ],
      "metadata": {
        "id": "MKL5Il1l7L7w"
      },
      "execution_count": 90,
      "outputs": []
    },
    {
      "cell_type": "code",
      "source": [
        "for img_batch, labels in MNIST_train_data:\n",
        "  break\n",
        "\n",
        "print(\n",
        "    f\"Image batch size: {img_batch.shape}\\n\" + \\\n",
        "    f\"Label batch size: {labels.shape}\"\n",
        ")"
      ],
      "metadata": {
        "colab": {
          "base_uri": "https://localhost:8080/"
        },
        "id": "vjUsNSLL9ILc",
        "outputId": "8f9b2d0b-07c5-46ab-d43b-96a20aa40ee0"
      },
      "execution_count": 91,
      "outputs": [
        {
          "output_type": "stream",
          "name": "stdout",
          "text": [
            "Image batch size: torch.Size([100, 1, 28, 28])\n",
            "Label batch size: torch.Size([100])\n"
          ]
        }
      ]
    },
    {
      "cell_type": "code",
      "source": [
        "img_sample = img_batch[:sample_size]\n",
        "\n",
        "img_sample = make_grid(img_sample, nrow=3)\n",
        "plt.imshow(np.transpose(img_sample.numpy(), (1,2,0)), cmap=\"gist_yarg\") #CWH -> WHC (color, width, height)\n",
        "plt.show()\n",
        "\n",
        "print(\"\\n\".join([f\"Img: {idx}, label: {label}\" for idx, label in enumerate(labels[:sample_size])]))"
      ],
      "metadata": {
        "colab": {
          "base_uri": "https://localhost:8080/",
          "height": 589
        },
        "id": "1T8RSzpN98AE",
        "outputId": "9ecc61c2-1ce3-4322-ea40-e0a690c9ff70"
      },
      "execution_count": 92,
      "outputs": [
        {
          "output_type": "display_data",
          "data": {
            "text/plain": [
              "<Figure size 640x480 with 1 Axes>"
            ],
            "image/png": "[encoded data removed]"
          },
          "metadata": {}
        },
        {
          "output_type": "stream",
          "name": "stdout",
          "text": [
            "Img: 0, label: 5\n",
            "Img: 1, label: 5\n",
            "Img: 2, label: 5\n",
            "Img: 3, label: 2\n",
            "Img: 4, label: 0\n",
            "Img: 5, label: 4\n",
            "Img: 6, label: 8\n",
            "Img: 7, label: 4\n",
            "Img: 8, label: 2\n"
          ]
        }
      ]
    },
    {
      "cell_type": "code",
      "source": [
        "class MultilayerPerceptron(nn.Module):\n",
        "\n",
        "  def __init__(self, in_features, out_features, layers):\n",
        "\n",
        "    super().__init__()\n",
        "\n",
        "    self.model_layers = []\n",
        "\n",
        "    input_layer_size = in_features\n",
        "\n",
        "    for output_layer_size in layers:\n",
        "      self.model_layers.append(\n",
        "          nn.Linear(input_layer_size, output_layer_size)\n",
        "      )\n",
        "\n",
        "      input_layer_size = output_layer_size\n",
        "\n",
        "    self.model_layers.append(\n",
        "        nn.Linear(input_layer_size, out_features)\n",
        "    )\n",
        "\n",
        "    self.model_layers = nn.Sequential(*self.model_layers)\n",
        "\n",
        "  def forward(self, features):\n",
        "    layer_prediction = features\n",
        "\n",
        "    for model_layer in self.model_layers:\n",
        "      layer_prediction = func.relu(model_layer(layer_prediction))\n",
        "\n",
        "    return func.log_softmax(layer_prediction)\n",
        "\n",
        "model = MultilayerPerceptron(784, 10, [120, 84])\n",
        "\n",
        "criterion = nn.CrossEntropyLoss()\n",
        "optim = torch.optim.Adam(model.parameters(), lr=1e-3)"
      ],
      "metadata": {
        "id": "7hQZFxE3797T"
      },
      "execution_count": 93,
      "outputs": []
    },
    {
      "cell_type": "code",
      "source": [
        "model"
      ],
      "metadata": {
        "colab": {
          "base_uri": "https://localhost:8080/"
        },
        "id": "F7sFciiVCH3q",
        "outputId": "ce9e767e-8191-41e3-87d7-828a5d716d84"
      },
      "execution_count": 94,
      "outputs": [
        {
          "output_type": "execute_result",
          "data": {
            "text/plain": [
              "MultilayerPerceptron(\n",
              "  (model_layers): Sequential(\n",
              "    (0): Linear(in_features=784, out_features=120, bias=True)\n",
              "    (1): Linear(in_features=120, out_features=84, bias=True)\n",
              "    (2): Linear(in_features=84, out_features=10, bias=True)\n",
              "  )\n",
              ")"
            ]
          },
          "metadata": {},
          "execution_count": 94
        }
      ]
    },
    {
      "cell_type": "code",
      "source": [
        "train_losses = []\n",
        "train_correct = []\n",
        "\n",
        "test_losses = []\n",
        "test_correct = []\n",
        "\n",
        "for i in range(epochs):\n",
        "  train_corr = 0\n",
        "  test_corr = 0\n",
        "\n",
        "  for batch_idx, (x_train, y_train) in enumerate(MNIST_train_data):\n",
        "\n",
        "    y_pred = model(x_train.reshape(100, -1)) #.reshape(100, -1) === .view(100, -1)\n",
        "    loss = criterion(y_pred, y_train)\n",
        "\n",
        "    label_pred = torch.max(y_pred.data, 1)[1]\n",
        "    batch_corr = (label_pred == y_train).sum()\n",
        "    train_corr += batch_corr\n",
        "\n",
        "    optim.zero_grad()\n",
        "    loss.backward()\n",
        "    optim.step()\n",
        "\n",
        "    if batch_idx%100 == 0:\n",
        "      train_acc = train_corr.item() / (batch_idx+1)\n",
        "      print(f\"Epoch: {i}, Batch idx: {batch_idx} obtained loss: {loss.item()}, accuracy: {train_acc}\")\n",
        "\n",
        "  train_losses.append(loss.detach().numpy())\n",
        "  train_correct.append(train_corr)\n",
        "\n",
        "\n",
        "  with torch.no_grad():\n",
        "    for b, (x_test, y_test) in enumerate(MNIST_test_data):\n",
        "\n",
        "      y_val = model(x_test.reshape(500, -1))\n",
        "      label_pred = torch.max(y_val.data, 1)[1]\n",
        "      test_corr += (label_pred == y_test).sum()\n",
        "\n",
        "  loss = criterion(y_val, y_test)\n",
        "  test_losses.append(loss)\n",
        "  test_correct.append(test_corr)\n"
      ],
      "metadata": {
        "colab": {
          "base_uri": "https://localhost:8080/"
        },
        "id": "9FbaAHd2DRNS",
        "outputId": "8a216aaa-d225-4264-b784-c864d7242142"
      },
      "execution_count": 95,
      "outputs": [
        {
          "output_type": "stream",
          "name": "stdout",
          "text": [
            "Epoch: 0, Batch idx: 0 obtained loss: 2.303109884262085, accuracy: 8.0\n"
          ]
        },
        {
          "output_type": "stream",
          "name": "stderr",
          "text": [
            "<ipython-input-93-3c125a9c2668>:30: UserWarning: Implicit dimension choice for log_softmax has been deprecated. Change the call to include dim=X as an argument.\n",
            "  return func.log_softmax(layer_prediction)\n"
          ]
        },
        {
          "output_type": "stream",
          "name": "stdout",
          "text": [
            "Epoch: 0, Batch idx: 100 obtained loss: 1.0163416862487793, accuracy: 56.613861386138616\n",
            "Epoch: 0, Batch idx: 200 obtained loss: 0.9996939301490784, accuracy: 60.57213930348259\n",
            "Epoch: 0, Batch idx: 300 obtained loss: 0.9806085228919983, accuracy: 62.199335548172755\n",
            "Epoch: 0, Batch idx: 400 obtained loss: 0.8740456104278564, accuracy: 62.8927680798005\n",
            "Epoch: 0, Batch idx: 500 obtained loss: 0.9393733143806458, accuracy: 63.51497005988024\n",
            "Epoch: 1, Batch idx: 0 obtained loss: 0.7179230451583862, accuracy: 74.0\n",
            "Epoch: 1, Batch idx: 100 obtained loss: 0.7604219317436218, accuracy: 75.78217821782178\n",
            "Epoch: 1, Batch idx: 200 obtained loss: 0.5032997131347656, accuracy: 75.81094527363184\n",
            "Epoch: 1, Batch idx: 300 obtained loss: 0.7629092931747437, accuracy: 76.18936877076412\n",
            "Epoch: 1, Batch idx: 400 obtained loss: 0.659389317035675, accuracy: 76.25187032418953\n",
            "Epoch: 1, Batch idx: 500 obtained loss: 0.6648068428039551, accuracy: 76.26746506986028\n",
            "Epoch: 2, Batch idx: 0 obtained loss: 0.5415226817131042, accuracy: 78.0\n",
            "Epoch: 2, Batch idx: 100 obtained loss: 0.5216056108474731, accuracy: 77.35643564356435\n",
            "Epoch: 2, Batch idx: 200 obtained loss: 0.641222357749939, accuracy: 77.57711442786069\n",
            "Epoch: 2, Batch idx: 300 obtained loss: 0.6332439184188843, accuracy: 77.47840531561462\n",
            "Epoch: 2, Batch idx: 400 obtained loss: 0.45002299547195435, accuracy: 77.33416458852868\n",
            "Epoch: 2, Batch idx: 500 obtained loss: 0.5014691948890686, accuracy: 77.30139720558883\n",
            "Epoch: 3, Batch idx: 0 obtained loss: 0.4793858230113983, accuracy: 81.0\n",
            "Epoch: 3, Batch idx: 100 obtained loss: 0.6461971998214722, accuracy: 78.15841584158416\n",
            "Epoch: 3, Batch idx: 200 obtained loss: 0.38178956508636475, accuracy: 78.23880597014926\n",
            "Epoch: 3, Batch idx: 300 obtained loss: 0.5439140796661377, accuracy: 78.0265780730897\n",
            "Epoch: 3, Batch idx: 400 obtained loss: 0.5582172274589539, accuracy: 78.12219451371571\n",
            "Epoch: 3, Batch idx: 500 obtained loss: 0.4744374752044678, accuracy: 78.13572854291417\n",
            "Epoch: 4, Batch idx: 0 obtained loss: 0.5035895705223083, accuracy: 80.0\n",
            "Epoch: 4, Batch idx: 100 obtained loss: 0.6491478085517883, accuracy: 78.54455445544555\n",
            "Epoch: 4, Batch idx: 200 obtained loss: 0.6935264468193054, accuracy: 78.18905472636816\n",
            "Epoch: 4, Batch idx: 300 obtained loss: 0.500512421131134, accuracy: 78.27574750830564\n",
            "Epoch: 4, Batch idx: 400 obtained loss: 0.4513901472091675, accuracy: 78.31670822942644\n",
            "Epoch: 4, Batch idx: 500 obtained loss: 0.48538845777511597, accuracy: 78.27544910179641\n",
            "Epoch: 5, Batch idx: 0 obtained loss: 0.7527604699134827, accuracy: 68.0\n",
            "Epoch: 5, Batch idx: 100 obtained loss: 0.4275589883327484, accuracy: 78.37623762376238\n",
            "Epoch: 5, Batch idx: 200 obtained loss: 0.4252382516860962, accuracy: 78.51243781094527\n",
            "Epoch: 5, Batch idx: 300 obtained loss: 0.44839245080947876, accuracy: 78.58471760797342\n",
            "Epoch: 5, Batch idx: 400 obtained loss: 0.49910423159599304, accuracy: 78.50374064837905\n",
            "Epoch: 5, Batch idx: 500 obtained loss: 0.6238800287246704, accuracy: 78.48303393213573\n",
            "Epoch: 6, Batch idx: 0 obtained loss: 0.5025995969772339, accuracy: 78.0\n",
            "Epoch: 6, Batch idx: 100 obtained loss: 0.4423081576824188, accuracy: 78.61386138613861\n",
            "Epoch: 6, Batch idx: 200 obtained loss: 0.763608455657959, accuracy: 78.48258706467662\n",
            "Epoch: 6, Batch idx: 300 obtained loss: 0.4998658299446106, accuracy: 78.83388704318936\n",
            "Epoch: 6, Batch idx: 400 obtained loss: 0.4926324188709259, accuracy: 78.72319201995012\n",
            "Epoch: 6, Batch idx: 500 obtained loss: 0.49050483107566833, accuracy: 78.69660678642714\n",
            "Epoch: 7, Batch idx: 0 obtained loss: 0.4408077299594879, accuracy: 83.0\n",
            "Epoch: 7, Batch idx: 100 obtained loss: 0.5513147115707397, accuracy: 79.08910891089108\n",
            "Epoch: 7, Batch idx: 200 obtained loss: 0.39551419019699097, accuracy: 79.01492537313433\n",
            "Epoch: 7, Batch idx: 300 obtained loss: 0.34938690066337585, accuracy: 79.14617940199335\n",
            "Epoch: 7, Batch idx: 400 obtained loss: 0.641541063785553, accuracy: 78.99501246882792\n",
            "Epoch: 7, Batch idx: 500 obtained loss: 0.4925486743450165, accuracy: 78.98203592814372\n",
            "Epoch: 8, Batch idx: 0 obtained loss: 0.5589078664779663, accuracy: 77.0\n",
            "Epoch: 8, Batch idx: 100 obtained loss: 0.5139504075050354, accuracy: 79.06930693069307\n",
            "Epoch: 8, Batch idx: 200 obtained loss: 0.5055275559425354, accuracy: 79.00995024875621\n",
            "Epoch: 8, Batch idx: 300 obtained loss: 0.4988904297351837, accuracy: 78.89036544850498\n",
            "Epoch: 8, Batch idx: 400 obtained loss: 0.5187022686004639, accuracy: 78.93516209476309\n",
            "Epoch: 8, Batch idx: 500 obtained loss: 0.3385334312915802, accuracy: 79.03592814371258\n",
            "Epoch: 9, Batch idx: 0 obtained loss: 0.4812808930873871, accuracy: 80.0\n",
            "Epoch: 9, Batch idx: 100 obtained loss: 0.32549193501472473, accuracy: 79.08910891089108\n",
            "Epoch: 9, Batch idx: 200 obtained loss: 0.3978751301765442, accuracy: 78.97512437810946\n",
            "Epoch: 9, Batch idx: 300 obtained loss: 0.5518960356712341, accuracy: 78.95348837209302\n",
            "Epoch: 9, Batch idx: 400 obtained loss: 0.5095899701118469, accuracy: 79.07980049875312\n",
            "Epoch: 9, Batch idx: 500 obtained loss: 0.4017280638217926, accuracy: 78.97604790419162\n"
          ]
        }
      ]
    },
    {
      "cell_type": "code",
      "source": [
        "plt.plot(range(10), train_losses)\n",
        "plt.show()"
      ],
      "metadata": {
        "colab": {
          "base_uri": "https://localhost:8080/",
          "height": 430
        },
        "id": "naKeUHwKFP5O",
        "outputId": "6328f966-de5c-4ad3-c7b8-249d393ca883"
      },
      "execution_count": 99,
      "outputs": [
        {
          "output_type": "display_data",
          "data": {
            "text/plain": [
              "<Figure size 640x480 with 1 Axes>"
            ],
            "image/png": "[encoded data removed]"
          },
          "metadata": {}
        }
      ]
    }
  ]
}